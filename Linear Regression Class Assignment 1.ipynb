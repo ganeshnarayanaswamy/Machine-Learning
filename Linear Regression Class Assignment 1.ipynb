{
 "cells": [
  {
   "cell_type": "code",
   "execution_count": 99,
   "metadata": {},
   "outputs": [],
   "source": [
    "import pandas as pd"
   ]
  },
  {
   "cell_type": "code",
   "execution_count": 100,
   "metadata": {},
   "outputs": [
    {
     "data": {
      "text/html": [
       "<div>\n",
       "<style scoped>\n",
       "    .dataframe tbody tr th:only-of-type {\n",
       "        vertical-align: middle;\n",
       "    }\n",
       "\n",
       "    .dataframe tbody tr th {\n",
       "        vertical-align: top;\n",
       "    }\n",
       "\n",
       "    .dataframe thead th {\n",
       "        text-align: right;\n",
       "    }\n",
       "</style>\n",
       "<table border=\"1\" class=\"dataframe\">\n",
       "  <thead>\n",
       "    <tr style=\"text-align: right;\">\n",
       "      <th></th>\n",
       "      <th>Company</th>\n",
       "      <th>Age</th>\n",
       "      <th>Salary</th>\n",
       "      <th>Place</th>\n",
       "      <th>Country</th>\n",
       "    </tr>\n",
       "  </thead>\n",
       "  <tbody>\n",
       "    <tr>\n",
       "      <th>0</th>\n",
       "      <td>TCS</td>\n",
       "      <td>20.0</td>\n",
       "      <td>NaN</td>\n",
       "      <td>Chennai</td>\n",
       "      <td>India</td>\n",
       "    </tr>\n",
       "    <tr>\n",
       "      <th>1</th>\n",
       "      <td>Infosys</td>\n",
       "      <td>30.0</td>\n",
       "      <td>NaN</td>\n",
       "      <td>Mumbai</td>\n",
       "      <td>India</td>\n",
       "    </tr>\n",
       "    <tr>\n",
       "      <th>2</th>\n",
       "      <td>TCS</td>\n",
       "      <td>35.0</td>\n",
       "      <td>2300.0</td>\n",
       "      <td>Calcutta</td>\n",
       "      <td>India</td>\n",
       "    </tr>\n",
       "    <tr>\n",
       "      <th>3</th>\n",
       "      <td>Infosys</td>\n",
       "      <td>40.0</td>\n",
       "      <td>3000.0</td>\n",
       "      <td>Delhi</td>\n",
       "      <td>India</td>\n",
       "    </tr>\n",
       "    <tr>\n",
       "      <th>4</th>\n",
       "      <td>TCS</td>\n",
       "      <td>23.0</td>\n",
       "      <td>4000.0</td>\n",
       "      <td>Mumbai</td>\n",
       "      <td>India</td>\n",
       "    </tr>\n",
       "    <tr>\n",
       "      <th>...</th>\n",
       "      <td>...</td>\n",
       "      <td>...</td>\n",
       "      <td>...</td>\n",
       "      <td>...</td>\n",
       "      <td>...</td>\n",
       "    </tr>\n",
       "    <tr>\n",
       "      <th>144</th>\n",
       "      <td>Infosys</td>\n",
       "      <td>22.0</td>\n",
       "      <td>8787.0</td>\n",
       "      <td>Calcutta</td>\n",
       "      <td>India</td>\n",
       "    </tr>\n",
       "    <tr>\n",
       "      <th>145</th>\n",
       "      <td>Infosys</td>\n",
       "      <td>44.0</td>\n",
       "      <td>4034.0</td>\n",
       "      <td>Delhi</td>\n",
       "      <td>India</td>\n",
       "    </tr>\n",
       "    <tr>\n",
       "      <th>146</th>\n",
       "      <td>TCS</td>\n",
       "      <td>33.0</td>\n",
       "      <td>5034.0</td>\n",
       "      <td>Mumbai</td>\n",
       "      <td>India</td>\n",
       "    </tr>\n",
       "    <tr>\n",
       "      <th>147</th>\n",
       "      <td>Infosys</td>\n",
       "      <td>22.0</td>\n",
       "      <td>8202.0</td>\n",
       "      <td>Cochin</td>\n",
       "      <td>India</td>\n",
       "    </tr>\n",
       "    <tr>\n",
       "      <th>148</th>\n",
       "      <td>NaN</td>\n",
       "      <td>NaN</td>\n",
       "      <td>NaN</td>\n",
       "      <td>NaN</td>\n",
       "      <td>NaN</td>\n",
       "    </tr>\n",
       "  </tbody>\n",
       "</table>\n",
       "<p>149 rows × 5 columns</p>\n",
       "</div>"
      ],
      "text/plain": [
       "     Company   Age  Salary     Place Country\n",
       "0        TCS  20.0     NaN   Chennai   India\n",
       "1    Infosys  30.0     NaN    Mumbai   India\n",
       "2        TCS  35.0  2300.0  Calcutta   India\n",
       "3    Infosys  40.0  3000.0     Delhi   India\n",
       "4        TCS  23.0  4000.0    Mumbai   India\n",
       "..       ...   ...     ...       ...     ...\n",
       "144  Infosys  22.0  8787.0  Calcutta   India\n",
       "145  Infosys  44.0  4034.0     Delhi   India\n",
       "146      TCS  33.0  5034.0    Mumbai   India\n",
       "147  Infosys  22.0  8202.0    Cochin   India\n",
       "148      NaN   NaN     NaN       NaN     NaN\n",
       "\n",
       "[149 rows x 5 columns]"
      ]
     },
     "execution_count": 100,
     "metadata": {},
     "output_type": "execute_result"
    }
   ],
   "source": [
    "data = pd.read_csv(\"company.csv\")\n",
    "data"
   ]
  },
  {
   "cell_type": "code",
   "execution_count": 101,
   "metadata": {},
   "outputs": [
    {
     "data": {
      "text/html": [
       "<div>\n",
       "<style scoped>\n",
       "    .dataframe tbody tr th:only-of-type {\n",
       "        vertical-align: middle;\n",
       "    }\n",
       "\n",
       "    .dataframe tbody tr th {\n",
       "        vertical-align: top;\n",
       "    }\n",
       "\n",
       "    .dataframe thead th {\n",
       "        text-align: right;\n",
       "    }\n",
       "</style>\n",
       "<table border=\"1\" class=\"dataframe\">\n",
       "  <thead>\n",
       "    <tr style=\"text-align: right;\">\n",
       "      <th></th>\n",
       "      <th>Company</th>\n",
       "      <th>Age</th>\n",
       "      <th>Salary</th>\n",
       "      <th>Place</th>\n",
       "      <th>Country</th>\n",
       "    </tr>\n",
       "  </thead>\n",
       "  <tbody>\n",
       "    <tr>\n",
       "      <th>0</th>\n",
       "      <td>TCS</td>\n",
       "      <td>20.0</td>\n",
       "      <td>NaN</td>\n",
       "      <td>Chennai</td>\n",
       "      <td>India</td>\n",
       "    </tr>\n",
       "    <tr>\n",
       "      <th>1</th>\n",
       "      <td>Infosys</td>\n",
       "      <td>30.0</td>\n",
       "      <td>NaN</td>\n",
       "      <td>Mumbai</td>\n",
       "      <td>India</td>\n",
       "    </tr>\n",
       "    <tr>\n",
       "      <th>2</th>\n",
       "      <td>TCS</td>\n",
       "      <td>35.0</td>\n",
       "      <td>2300.0</td>\n",
       "      <td>Calcutta</td>\n",
       "      <td>India</td>\n",
       "    </tr>\n",
       "    <tr>\n",
       "      <th>3</th>\n",
       "      <td>Infosys</td>\n",
       "      <td>40.0</td>\n",
       "      <td>3000.0</td>\n",
       "      <td>Delhi</td>\n",
       "      <td>India</td>\n",
       "    </tr>\n",
       "    <tr>\n",
       "      <th>4</th>\n",
       "      <td>TCS</td>\n",
       "      <td>23.0</td>\n",
       "      <td>4000.0</td>\n",
       "      <td>Mumbai</td>\n",
       "      <td>India</td>\n",
       "    </tr>\n",
       "  </tbody>\n",
       "</table>\n",
       "</div>"
      ],
      "text/plain": [
       "   Company   Age  Salary     Place Country\n",
       "0      TCS  20.0     NaN   Chennai   India\n",
       "1  Infosys  30.0     NaN    Mumbai   India\n",
       "2      TCS  35.0  2300.0  Calcutta   India\n",
       "3  Infosys  40.0  3000.0     Delhi   India\n",
       "4      TCS  23.0  4000.0    Mumbai   India"
      ]
     },
     "execution_count": 101,
     "metadata": {},
     "output_type": "execute_result"
    }
   ],
   "source": [
    "data.head()"
   ]
  },
  {
   "cell_type": "code",
   "execution_count": 102,
   "metadata": {},
   "outputs": [
    {
     "data": {
      "text/html": [
       "<div>\n",
       "<style scoped>\n",
       "    .dataframe tbody tr th:only-of-type {\n",
       "        vertical-align: middle;\n",
       "    }\n",
       "\n",
       "    .dataframe tbody tr th {\n",
       "        vertical-align: top;\n",
       "    }\n",
       "\n",
       "    .dataframe thead th {\n",
       "        text-align: right;\n",
       "    }\n",
       "</style>\n",
       "<table border=\"1\" class=\"dataframe\">\n",
       "  <thead>\n",
       "    <tr style=\"text-align: right;\">\n",
       "      <th></th>\n",
       "      <th>Company</th>\n",
       "      <th>Age</th>\n",
       "      <th>Salary</th>\n",
       "      <th>Place</th>\n",
       "      <th>Country</th>\n",
       "    </tr>\n",
       "  </thead>\n",
       "  <tbody>\n",
       "    <tr>\n",
       "      <th>144</th>\n",
       "      <td>Infosys</td>\n",
       "      <td>22.0</td>\n",
       "      <td>8787.0</td>\n",
       "      <td>Calcutta</td>\n",
       "      <td>India</td>\n",
       "    </tr>\n",
       "    <tr>\n",
       "      <th>145</th>\n",
       "      <td>Infosys</td>\n",
       "      <td>44.0</td>\n",
       "      <td>4034.0</td>\n",
       "      <td>Delhi</td>\n",
       "      <td>India</td>\n",
       "    </tr>\n",
       "    <tr>\n",
       "      <th>146</th>\n",
       "      <td>TCS</td>\n",
       "      <td>33.0</td>\n",
       "      <td>5034.0</td>\n",
       "      <td>Mumbai</td>\n",
       "      <td>India</td>\n",
       "    </tr>\n",
       "    <tr>\n",
       "      <th>147</th>\n",
       "      <td>Infosys</td>\n",
       "      <td>22.0</td>\n",
       "      <td>8202.0</td>\n",
       "      <td>Cochin</td>\n",
       "      <td>India</td>\n",
       "    </tr>\n",
       "    <tr>\n",
       "      <th>148</th>\n",
       "      <td>NaN</td>\n",
       "      <td>NaN</td>\n",
       "      <td>NaN</td>\n",
       "      <td>NaN</td>\n",
       "      <td>NaN</td>\n",
       "    </tr>\n",
       "  </tbody>\n",
       "</table>\n",
       "</div>"
      ],
      "text/plain": [
       "     Company   Age  Salary     Place Country\n",
       "144  Infosys  22.0  8787.0  Calcutta   India\n",
       "145  Infosys  44.0  4034.0     Delhi   India\n",
       "146      TCS  33.0  5034.0    Mumbai   India\n",
       "147  Infosys  22.0  8202.0    Cochin   India\n",
       "148      NaN   NaN     NaN       NaN     NaN"
      ]
     },
     "execution_count": 102,
     "metadata": {},
     "output_type": "execute_result"
    }
   ],
   "source": [
    "data.tail()\n"
   ]
  },
  {
   "cell_type": "code",
   "execution_count": 103,
   "metadata": {},
   "outputs": [
    {
     "data": {
      "text/plain": [
       "(149, 5)"
      ]
     },
     "execution_count": 103,
     "metadata": {},
     "output_type": "execute_result"
    }
   ],
   "source": [
    "data.shape\n"
   ]
  },
  {
   "cell_type": "code",
   "execution_count": 104,
   "metadata": {},
   "outputs": [
    {
     "name": "stdout",
     "output_type": "stream",
     "text": [
      "<class 'pandas.core.frame.DataFrame'>\n",
      "RangeIndex: 149 entries, 0 to 148\n",
      "Data columns (total 5 columns):\n",
      " #   Column   Non-Null Count  Dtype  \n",
      "---  ------   --------------  -----  \n",
      " 0   Company  140 non-null    object \n",
      " 1   Age      130 non-null    float64\n",
      " 2   Salary   124 non-null    float64\n",
      " 3   Place    134 non-null    object \n",
      " 4   Country  148 non-null    object \n",
      "dtypes: float64(2), object(3)\n",
      "memory usage: 5.9+ KB\n"
     ]
    }
   ],
   "source": [
    "data.info()\n"
   ]
  },
  {
   "cell_type": "code",
   "execution_count": 105,
   "metadata": {},
   "outputs": [
    {
     "data": {
      "text/html": [
       "<div>\n",
       "<style scoped>\n",
       "    .dataframe tbody tr th:only-of-type {\n",
       "        vertical-align: middle;\n",
       "    }\n",
       "\n",
       "    .dataframe tbody tr th {\n",
       "        vertical-align: top;\n",
       "    }\n",
       "\n",
       "    .dataframe thead th {\n",
       "        text-align: right;\n",
       "    }\n",
       "</style>\n",
       "<table border=\"1\" class=\"dataframe\">\n",
       "  <thead>\n",
       "    <tr style=\"text-align: right;\">\n",
       "      <th></th>\n",
       "      <th>Age</th>\n",
       "      <th>Salary</th>\n",
       "    </tr>\n",
       "  </thead>\n",
       "  <tbody>\n",
       "    <tr>\n",
       "      <th>count</th>\n",
       "      <td>130.000000</td>\n",
       "      <td>124.000000</td>\n",
       "    </tr>\n",
       "    <tr>\n",
       "      <th>mean</th>\n",
       "      <td>30.484615</td>\n",
       "      <td>5312.467742</td>\n",
       "    </tr>\n",
       "    <tr>\n",
       "      <th>std</th>\n",
       "      <td>11.096640</td>\n",
       "      <td>2573.764683</td>\n",
       "    </tr>\n",
       "    <tr>\n",
       "      <th>min</th>\n",
       "      <td>0.000000</td>\n",
       "      <td>1089.000000</td>\n",
       "    </tr>\n",
       "    <tr>\n",
       "      <th>25%</th>\n",
       "      <td>22.000000</td>\n",
       "      <td>3030.000000</td>\n",
       "    </tr>\n",
       "    <tr>\n",
       "      <th>50%</th>\n",
       "      <td>32.500000</td>\n",
       "      <td>5000.000000</td>\n",
       "    </tr>\n",
       "    <tr>\n",
       "      <th>75%</th>\n",
       "      <td>37.750000</td>\n",
       "      <td>8000.000000</td>\n",
       "    </tr>\n",
       "    <tr>\n",
       "      <th>max</th>\n",
       "      <td>54.000000</td>\n",
       "      <td>9876.000000</td>\n",
       "    </tr>\n",
       "  </tbody>\n",
       "</table>\n",
       "</div>"
      ],
      "text/plain": [
       "              Age       Salary\n",
       "count  130.000000   124.000000\n",
       "mean    30.484615  5312.467742\n",
       "std     11.096640  2573.764683\n",
       "min      0.000000  1089.000000\n",
       "25%     22.000000  3030.000000\n",
       "50%     32.500000  5000.000000\n",
       "75%     37.750000  8000.000000\n",
       "max     54.000000  9876.000000"
      ]
     },
     "execution_count": 105,
     "metadata": {},
     "output_type": "execute_result"
    }
   ],
   "source": [
    "data.describe()"
   ]
  },
  {
   "cell_type": "code",
   "execution_count": 106,
   "metadata": {},
   "outputs": [
    {
     "data": {
      "text/html": [
       "<div>\n",
       "<style scoped>\n",
       "    .dataframe tbody tr th:only-of-type {\n",
       "        vertical-align: middle;\n",
       "    }\n",
       "\n",
       "    .dataframe tbody tr th {\n",
       "        vertical-align: top;\n",
       "    }\n",
       "\n",
       "    .dataframe thead th {\n",
       "        text-align: right;\n",
       "    }\n",
       "</style>\n",
       "<table border=\"1\" class=\"dataframe\">\n",
       "  <thead>\n",
       "    <tr style=\"text-align: right;\">\n",
       "      <th></th>\n",
       "      <th>Company</th>\n",
       "      <th>Age</th>\n",
       "      <th>Salary</th>\n",
       "      <th>Place</th>\n",
       "      <th>Country</th>\n",
       "    </tr>\n",
       "  </thead>\n",
       "  <tbody>\n",
       "    <tr>\n",
       "      <th>count</th>\n",
       "      <td>140</td>\n",
       "      <td>130.000000</td>\n",
       "      <td>124.000000</td>\n",
       "      <td>134</td>\n",
       "      <td>148</td>\n",
       "    </tr>\n",
       "    <tr>\n",
       "      <th>unique</th>\n",
       "      <td>6</td>\n",
       "      <td>NaN</td>\n",
       "      <td>NaN</td>\n",
       "      <td>11</td>\n",
       "      <td>1</td>\n",
       "    </tr>\n",
       "    <tr>\n",
       "      <th>top</th>\n",
       "      <td>TCS</td>\n",
       "      <td>NaN</td>\n",
       "      <td>NaN</td>\n",
       "      <td>Mumbai</td>\n",
       "      <td>India</td>\n",
       "    </tr>\n",
       "    <tr>\n",
       "      <th>freq</th>\n",
       "      <td>53</td>\n",
       "      <td>NaN</td>\n",
       "      <td>NaN</td>\n",
       "      <td>37</td>\n",
       "      <td>148</td>\n",
       "    </tr>\n",
       "    <tr>\n",
       "      <th>mean</th>\n",
       "      <td>NaN</td>\n",
       "      <td>30.484615</td>\n",
       "      <td>5312.467742</td>\n",
       "      <td>NaN</td>\n",
       "      <td>NaN</td>\n",
       "    </tr>\n",
       "    <tr>\n",
       "      <th>std</th>\n",
       "      <td>NaN</td>\n",
       "      <td>11.096640</td>\n",
       "      <td>2573.764683</td>\n",
       "      <td>NaN</td>\n",
       "      <td>NaN</td>\n",
       "    </tr>\n",
       "    <tr>\n",
       "      <th>min</th>\n",
       "      <td>NaN</td>\n",
       "      <td>0.000000</td>\n",
       "      <td>1089.000000</td>\n",
       "      <td>NaN</td>\n",
       "      <td>NaN</td>\n",
       "    </tr>\n",
       "    <tr>\n",
       "      <th>25%</th>\n",
       "      <td>NaN</td>\n",
       "      <td>22.000000</td>\n",
       "      <td>3030.000000</td>\n",
       "      <td>NaN</td>\n",
       "      <td>NaN</td>\n",
       "    </tr>\n",
       "    <tr>\n",
       "      <th>50%</th>\n",
       "      <td>NaN</td>\n",
       "      <td>32.500000</td>\n",
       "      <td>5000.000000</td>\n",
       "      <td>NaN</td>\n",
       "      <td>NaN</td>\n",
       "    </tr>\n",
       "    <tr>\n",
       "      <th>75%</th>\n",
       "      <td>NaN</td>\n",
       "      <td>37.750000</td>\n",
       "      <td>8000.000000</td>\n",
       "      <td>NaN</td>\n",
       "      <td>NaN</td>\n",
       "    </tr>\n",
       "    <tr>\n",
       "      <th>max</th>\n",
       "      <td>NaN</td>\n",
       "      <td>54.000000</td>\n",
       "      <td>9876.000000</td>\n",
       "      <td>NaN</td>\n",
       "      <td>NaN</td>\n",
       "    </tr>\n",
       "  </tbody>\n",
       "</table>\n",
       "</div>"
      ],
      "text/plain": [
       "       Company         Age       Salary   Place Country\n",
       "count      140  130.000000   124.000000     134     148\n",
       "unique       6         NaN          NaN      11       1\n",
       "top        TCS         NaN          NaN  Mumbai   India\n",
       "freq        53         NaN          NaN      37     148\n",
       "mean       NaN   30.484615  5312.467742     NaN     NaN\n",
       "std        NaN   11.096640  2573.764683     NaN     NaN\n",
       "min        NaN    0.000000  1089.000000     NaN     NaN\n",
       "25%        NaN   22.000000  3030.000000     NaN     NaN\n",
       "50%        NaN   32.500000  5000.000000     NaN     NaN\n",
       "75%        NaN   37.750000  8000.000000     NaN     NaN\n",
       "max        NaN   54.000000  9876.000000     NaN     NaN"
      ]
     },
     "execution_count": 106,
     "metadata": {},
     "output_type": "execute_result"
    }
   ],
   "source": [
    "data.describe(include=\"all\")"
   ]
  },
  {
   "cell_type": "code",
   "execution_count": 107,
   "metadata": {},
   "outputs": [
    {
     "data": {
      "text/html": [
       "<div>\n",
       "<style scoped>\n",
       "    .dataframe tbody tr th:only-of-type {\n",
       "        vertical-align: middle;\n",
       "    }\n",
       "\n",
       "    .dataframe tbody tr th {\n",
       "        vertical-align: top;\n",
       "    }\n",
       "\n",
       "    .dataframe thead th {\n",
       "        text-align: right;\n",
       "    }\n",
       "</style>\n",
       "<table border=\"1\" class=\"dataframe\">\n",
       "  <thead>\n",
       "    <tr style=\"text-align: right;\">\n",
       "      <th></th>\n",
       "      <th>Organisation</th>\n",
       "      <th>Age</th>\n",
       "      <th>Salary</th>\n",
       "      <th>Place</th>\n",
       "      <th>Country</th>\n",
       "    </tr>\n",
       "  </thead>\n",
       "  <tbody>\n",
       "    <tr>\n",
       "      <th>0</th>\n",
       "      <td>TCS</td>\n",
       "      <td>20.0</td>\n",
       "      <td>NaN</td>\n",
       "      <td>Chennai</td>\n",
       "      <td>India</td>\n",
       "    </tr>\n",
       "    <tr>\n",
       "      <th>1</th>\n",
       "      <td>Infosys</td>\n",
       "      <td>30.0</td>\n",
       "      <td>NaN</td>\n",
       "      <td>Mumbai</td>\n",
       "      <td>India</td>\n",
       "    </tr>\n",
       "    <tr>\n",
       "      <th>2</th>\n",
       "      <td>TCS</td>\n",
       "      <td>35.0</td>\n",
       "      <td>2300.0</td>\n",
       "      <td>Calcutta</td>\n",
       "      <td>India</td>\n",
       "    </tr>\n",
       "    <tr>\n",
       "      <th>3</th>\n",
       "      <td>Infosys</td>\n",
       "      <td>40.0</td>\n",
       "      <td>3000.0</td>\n",
       "      <td>Delhi</td>\n",
       "      <td>India</td>\n",
       "    </tr>\n",
       "    <tr>\n",
       "      <th>4</th>\n",
       "      <td>TCS</td>\n",
       "      <td>23.0</td>\n",
       "      <td>4000.0</td>\n",
       "      <td>Mumbai</td>\n",
       "      <td>India</td>\n",
       "    </tr>\n",
       "  </tbody>\n",
       "</table>\n",
       "</div>"
      ],
      "text/plain": [
       "  Organisation   Age  Salary     Place Country\n",
       "0          TCS  20.0     NaN   Chennai   India\n",
       "1      Infosys  30.0     NaN    Mumbai   India\n",
       "2          TCS  35.0  2300.0  Calcutta   India\n",
       "3      Infosys  40.0  3000.0     Delhi   India\n",
       "4          TCS  23.0  4000.0    Mumbai   India"
      ]
     },
     "execution_count": 107,
     "metadata": {},
     "output_type": "execute_result"
    }
   ],
   "source": [
    "data.rename(columns={\"Company\":\"Organisation\"}, inplace=True)\n",
    "data.head()"
   ]
  },
  {
   "cell_type": "code",
   "execution_count": 108,
   "metadata": {},
   "outputs": [
    {
     "data": {
      "text/plain": [
       "array(['TCS', 'Infosys', 'CTS', nan, 'Tata Consultancy Services',\n",
       "       'Congnizant', 'Infosys Pvt Lmt'], dtype=object)"
      ]
     },
     "execution_count": 108,
     "metadata": {},
     "output_type": "execute_result"
    }
   ],
   "source": [
    "data.Organisation.unique()\n"
   ]
  },
  {
   "cell_type": "code",
   "execution_count": 109,
   "metadata": {},
   "outputs": [
    {
     "data": {
      "text/plain": [
       "6"
      ]
     },
     "execution_count": 109,
     "metadata": {},
     "output_type": "execute_result"
    }
   ],
   "source": [
    "data.Organisation.nunique()"
   ]
  },
  {
   "cell_type": "code",
   "execution_count": 110,
   "metadata": {},
   "outputs": [
    {
     "data": {
      "text/plain": [
       "TCS                          53\n",
       "Infosys                      45\n",
       "CTS                          36\n",
       "Congnizant                    2\n",
       "Infosys Pvt Lmt               2\n",
       "Tata Consultancy Services     2\n",
       "Name: Organisation, dtype: int64"
      ]
     },
     "execution_count": 110,
     "metadata": {},
     "output_type": "execute_result"
    }
   ],
   "source": [
    "data.Organisation.value_counts()"
   ]
  },
  {
   "cell_type": "code",
   "execution_count": 111,
   "metadata": {},
   "outputs": [
    {
     "data": {
      "text/plain": [
       "Index(['Organisation', 'Age', 'Salary', 'Place', 'Country'], dtype='object')"
      ]
     },
     "execution_count": 111,
     "metadata": {},
     "output_type": "execute_result"
    }
   ],
   "source": [
    "data.columns"
   ]
  },
  {
   "cell_type": "code",
   "execution_count": 112,
   "metadata": {},
   "outputs": [],
   "source": [
    "data[\"Organisation\"].replace({\"TCS\":\"Tata Consultancy Services\", \"CTS\":\"Cognizant\",\"Congnizant\":\"Cognizant\",\"Infosys Pvt Lmt\":\"Infosys\"}, inplace= True)\n"
   ]
  },
  {
   "cell_type": "code",
   "execution_count": 113,
   "metadata": {},
   "outputs": [
    {
     "data": {
      "text/plain": [
       "Tata Consultancy Services    55\n",
       "Infosys                      47\n",
       "Cognizant                    38\n",
       "Name: Organisation, dtype: int64"
      ]
     },
     "execution_count": 113,
     "metadata": {},
     "output_type": "execute_result"
    }
   ],
   "source": [
    "data.Organisation.value_counts()"
   ]
  },
  {
   "cell_type": "code",
   "execution_count": 114,
   "metadata": {},
   "outputs": [
    {
     "data": {
      "text/plain": [
       "8"
      ]
     },
     "execution_count": 114,
     "metadata": {},
     "output_type": "execute_result"
    }
   ],
   "source": [
    "data.duplicated().sum()"
   ]
  },
  {
   "cell_type": "code",
   "execution_count": 115,
   "metadata": {},
   "outputs": [
    {
     "data": {
      "text/html": [
       "<div>\n",
       "<style scoped>\n",
       "    .dataframe tbody tr th:only-of-type {\n",
       "        vertical-align: middle;\n",
       "    }\n",
       "\n",
       "    .dataframe tbody tr th {\n",
       "        vertical-align: top;\n",
       "    }\n",
       "\n",
       "    .dataframe thead th {\n",
       "        text-align: right;\n",
       "    }\n",
       "</style>\n",
       "<table border=\"1\" class=\"dataframe\">\n",
       "  <thead>\n",
       "    <tr style=\"text-align: right;\">\n",
       "      <th></th>\n",
       "      <th>Organisation</th>\n",
       "      <th>Age</th>\n",
       "      <th>Salary</th>\n",
       "      <th>Place</th>\n",
       "      <th>Country</th>\n",
       "    </tr>\n",
       "  </thead>\n",
       "  <tbody>\n",
       "    <tr>\n",
       "      <th>84</th>\n",
       "      <td>Cognizant</td>\n",
       "      <td>43.0</td>\n",
       "      <td>NaN</td>\n",
       "      <td>Mumbai</td>\n",
       "      <td>India</td>\n",
       "    </tr>\n",
       "    <tr>\n",
       "      <th>124</th>\n",
       "      <td>Infosys</td>\n",
       "      <td>22.0</td>\n",
       "      <td>8787.0</td>\n",
       "      <td>Calcutta</td>\n",
       "      <td>India</td>\n",
       "    </tr>\n",
       "    <tr>\n",
       "      <th>130</th>\n",
       "      <td>Tata Consultancy Services</td>\n",
       "      <td>21.0</td>\n",
       "      <td>4824.0</td>\n",
       "      <td>Mumbai</td>\n",
       "      <td>India</td>\n",
       "    </tr>\n",
       "    <tr>\n",
       "      <th>131</th>\n",
       "      <td>Infosys</td>\n",
       "      <td>NaN</td>\n",
       "      <td>5835.0</td>\n",
       "      <td>Mumbai</td>\n",
       "      <td>India</td>\n",
       "    </tr>\n",
       "    <tr>\n",
       "      <th>144</th>\n",
       "      <td>Infosys</td>\n",
       "      <td>22.0</td>\n",
       "      <td>8787.0</td>\n",
       "      <td>Calcutta</td>\n",
       "      <td>India</td>\n",
       "    </tr>\n",
       "    <tr>\n",
       "      <th>145</th>\n",
       "      <td>Infosys</td>\n",
       "      <td>44.0</td>\n",
       "      <td>4034.0</td>\n",
       "      <td>Delhi</td>\n",
       "      <td>India</td>\n",
       "    </tr>\n",
       "    <tr>\n",
       "      <th>146</th>\n",
       "      <td>Tata Consultancy Services</td>\n",
       "      <td>33.0</td>\n",
       "      <td>5034.0</td>\n",
       "      <td>Mumbai</td>\n",
       "      <td>India</td>\n",
       "    </tr>\n",
       "    <tr>\n",
       "      <th>147</th>\n",
       "      <td>Infosys</td>\n",
       "      <td>22.0</td>\n",
       "      <td>8202.0</td>\n",
       "      <td>Cochin</td>\n",
       "      <td>India</td>\n",
       "    </tr>\n",
       "  </tbody>\n",
       "</table>\n",
       "</div>"
      ],
      "text/plain": [
       "                  Organisation   Age  Salary     Place Country\n",
       "84                   Cognizant  43.0     NaN    Mumbai   India\n",
       "124                    Infosys  22.0  8787.0  Calcutta   India\n",
       "130  Tata Consultancy Services  21.0  4824.0    Mumbai   India\n",
       "131                    Infosys   NaN  5835.0    Mumbai   India\n",
       "144                    Infosys  22.0  8787.0  Calcutta   India\n",
       "145                    Infosys  44.0  4034.0     Delhi   India\n",
       "146  Tata Consultancy Services  33.0  5034.0    Mumbai   India\n",
       "147                    Infosys  22.0  8202.0    Cochin   India"
      ]
     },
     "execution_count": 115,
     "metadata": {},
     "output_type": "execute_result"
    }
   ],
   "source": [
    "data[data.duplicated()]"
   ]
  },
  {
   "cell_type": "code",
   "execution_count": 116,
   "metadata": {},
   "outputs": [
    {
     "data": {
      "text/html": [
       "<div>\n",
       "<style scoped>\n",
       "    .dataframe tbody tr th:only-of-type {\n",
       "        vertical-align: middle;\n",
       "    }\n",
       "\n",
       "    .dataframe tbody tr th {\n",
       "        vertical-align: top;\n",
       "    }\n",
       "\n",
       "    .dataframe thead th {\n",
       "        text-align: right;\n",
       "    }\n",
       "</style>\n",
       "<table border=\"1\" class=\"dataframe\">\n",
       "  <thead>\n",
       "    <tr style=\"text-align: right;\">\n",
       "      <th></th>\n",
       "      <th>Organisation</th>\n",
       "      <th>Age</th>\n",
       "      <th>Salary</th>\n",
       "      <th>Place</th>\n",
       "      <th>Country</th>\n",
       "    </tr>\n",
       "  </thead>\n",
       "  <tbody>\n",
       "  </tbody>\n",
       "</table>\n",
       "</div>"
      ],
      "text/plain": [
       "Empty DataFrame\n",
       "Columns: [Organisation, Age, Salary, Place, Country]\n",
       "Index: []"
      ]
     },
     "execution_count": 116,
     "metadata": {},
     "output_type": "execute_result"
    }
   ],
   "source": [
    "data.drop_duplicates(inplace=True)\n",
    "data[data.duplicated()]"
   ]
  },
  {
   "cell_type": "code",
   "execution_count": 117,
   "metadata": {},
   "outputs": [
    {
     "data": {
      "text/plain": [
       "Organisation     9\n",
       "Age             18\n",
       "Salary          24\n",
       "Place           15\n",
       "Country          1\n",
       "dtype: int64"
      ]
     },
     "execution_count": 117,
     "metadata": {},
     "output_type": "execute_result"
    }
   ],
   "source": [
    "data.isna().sum()"
   ]
  },
  {
   "cell_type": "code",
   "execution_count": 118,
   "metadata": {},
   "outputs": [
    {
     "data": {
      "text/plain": [
       "Organisation     0\n",
       "Age             15\n",
       "Salary          20\n",
       "Place           13\n",
       "Country          0\n",
       "dtype: int64"
      ]
     },
     "execution_count": 118,
     "metadata": {},
     "output_type": "execute_result"
    }
   ],
   "source": [
    "data.dropna(subset=[\"Organisation\"],inplace=True)\n",
    "data.isna().sum()"
   ]
  },
  {
   "cell_type": "code",
   "execution_count": 119,
   "metadata": {},
   "outputs": [
    {
     "data": {
      "text/plain": [
       "33.0"
      ]
     },
     "execution_count": 119,
     "metadata": {},
     "output_type": "execute_result"
    }
   ],
   "source": [
    "data.Age.median()"
   ]
  },
  {
   "cell_type": "code",
   "execution_count": 120,
   "metadata": {},
   "outputs": [
    {
     "data": {
      "text/plain": [
       "Organisation     0\n",
       "Age              0\n",
       "Salary          20\n",
       "Place           13\n",
       "Country          0\n",
       "dtype: int64"
      ]
     },
     "execution_count": 120,
     "metadata": {},
     "output_type": "execute_result"
    }
   ],
   "source": [
    "data.Age.fillna(data.Age.median(),inplace=True)\n",
    "data.isna().sum()"
   ]
  },
  {
   "cell_type": "code",
   "execution_count": 121,
   "metadata": {},
   "outputs": [
    {
     "data": {
      "text/plain": [
       "5199.642857142857"
      ]
     },
     "execution_count": 121,
     "metadata": {},
     "output_type": "execute_result"
    }
   ],
   "source": [
    "data.Salary.mean()"
   ]
  },
  {
   "cell_type": "code",
   "execution_count": 122,
   "metadata": {},
   "outputs": [
    {
     "data": {
      "text/plain": [
       "Organisation    0\n",
       "Age             0\n",
       "Salary          0\n",
       "Place           0\n",
       "Country         0\n",
       "dtype: int64"
      ]
     },
     "execution_count": 122,
     "metadata": {},
     "output_type": "execute_result"
    }
   ],
   "source": [
    "data.dropna(subset=[\"Salary\",\"Place\"], inplace = True)\n",
    "data.isna().sum()"
   ]
  },
  {
   "cell_type": "code",
   "execution_count": 123,
   "metadata": {},
   "outputs": [
    {
     "data": {
      "text/plain": [
       "(100, 5)"
      ]
     },
     "execution_count": 123,
     "metadata": {},
     "output_type": "execute_result"
    }
   ],
   "source": [
    "data.shape"
   ]
  },
  {
   "cell_type": "code",
   "execution_count": 124,
   "metadata": {},
   "outputs": [
    {
     "data": {
      "text/html": [
       "<div>\n",
       "<style scoped>\n",
       "    .dataframe tbody tr th:only-of-type {\n",
       "        vertical-align: middle;\n",
       "    }\n",
       "\n",
       "    .dataframe tbody tr th {\n",
       "        vertical-align: top;\n",
       "    }\n",
       "\n",
       "    .dataframe thead th {\n",
       "        text-align: right;\n",
       "    }\n",
       "</style>\n",
       "<table border=\"1\" class=\"dataframe\">\n",
       "  <thead>\n",
       "    <tr style=\"text-align: right;\">\n",
       "      <th></th>\n",
       "      <th>Organisation</th>\n",
       "      <th>Age</th>\n",
       "      <th>Salary</th>\n",
       "      <th>Place</th>\n",
       "      <th>Country</th>\n",
       "    </tr>\n",
       "  </thead>\n",
       "  <tbody>\n",
       "    <tr>\n",
       "      <th>21</th>\n",
       "      <td>Infosys</td>\n",
       "      <td>50.0</td>\n",
       "      <td>3184.0</td>\n",
       "      <td>Delhi</td>\n",
       "      <td>India</td>\n",
       "    </tr>\n",
       "    <tr>\n",
       "      <th>32</th>\n",
       "      <td>Infosys</td>\n",
       "      <td>45.0</td>\n",
       "      <td>4034.0</td>\n",
       "      <td>Calcutta</td>\n",
       "      <td>India</td>\n",
       "    </tr>\n",
       "    <tr>\n",
       "      <th>39</th>\n",
       "      <td>Infosys</td>\n",
       "      <td>41.0</td>\n",
       "      <td>3000.0</td>\n",
       "      <td>Mumbai</td>\n",
       "      <td>India</td>\n",
       "    </tr>\n",
       "    <tr>\n",
       "      <th>50</th>\n",
       "      <td>Infosys</td>\n",
       "      <td>41.0</td>\n",
       "      <td>3000.0</td>\n",
       "      <td>Chennai</td>\n",
       "      <td>India</td>\n",
       "    </tr>\n",
       "    <tr>\n",
       "      <th>57</th>\n",
       "      <td>Infosys</td>\n",
       "      <td>51.0</td>\n",
       "      <td>3184.0</td>\n",
       "      <td>Hyderabad</td>\n",
       "      <td>India</td>\n",
       "    </tr>\n",
       "    <tr>\n",
       "      <th>68</th>\n",
       "      <td>Infosys</td>\n",
       "      <td>43.0</td>\n",
       "      <td>4034.0</td>\n",
       "      <td>Mumbai</td>\n",
       "      <td>India</td>\n",
       "    </tr>\n",
       "    <tr>\n",
       "      <th>75</th>\n",
       "      <td>Infosys</td>\n",
       "      <td>44.0</td>\n",
       "      <td>3000.0</td>\n",
       "      <td>Cochin</td>\n",
       "      <td>India</td>\n",
       "    </tr>\n",
       "    <tr>\n",
       "      <th>86</th>\n",
       "      <td>Infosys</td>\n",
       "      <td>41.0</td>\n",
       "      <td>3000.0</td>\n",
       "      <td>Delhi</td>\n",
       "      <td>India</td>\n",
       "    </tr>\n",
       "    <tr>\n",
       "      <th>93</th>\n",
       "      <td>Infosys</td>\n",
       "      <td>54.0</td>\n",
       "      <td>3184.0</td>\n",
       "      <td>Mumbai</td>\n",
       "      <td>India</td>\n",
       "    </tr>\n",
       "    <tr>\n",
       "      <th>104</th>\n",
       "      <td>Infosys</td>\n",
       "      <td>44.0</td>\n",
       "      <td>4034.0</td>\n",
       "      <td>Delhi</td>\n",
       "      <td>India</td>\n",
       "    </tr>\n",
       "    <tr>\n",
       "      <th>122</th>\n",
       "      <td>Infosys</td>\n",
       "      <td>44.0</td>\n",
       "      <td>3234.0</td>\n",
       "      <td>Mumbai</td>\n",
       "      <td>India</td>\n",
       "    </tr>\n",
       "    <tr>\n",
       "      <th>129</th>\n",
       "      <td>Infosys</td>\n",
       "      <td>50.0</td>\n",
       "      <td>3184.0</td>\n",
       "      <td>Calcutta</td>\n",
       "      <td>India</td>\n",
       "    </tr>\n",
       "    <tr>\n",
       "      <th>138</th>\n",
       "      <td>Cognizant</td>\n",
       "      <td>44.0</td>\n",
       "      <td>3033.0</td>\n",
       "      <td>Cochin</td>\n",
       "      <td>India</td>\n",
       "    </tr>\n",
       "    <tr>\n",
       "      <th>140</th>\n",
       "      <td>Infosys</td>\n",
       "      <td>44.0</td>\n",
       "      <td>4034.0</td>\n",
       "      <td>Hyderabad</td>\n",
       "      <td>India</td>\n",
       "    </tr>\n",
       "  </tbody>\n",
       "</table>\n",
       "</div>"
      ],
      "text/plain": [
       "    Organisation   Age  Salary      Place Country\n",
       "21       Infosys  50.0  3184.0      Delhi   India\n",
       "32       Infosys  45.0  4034.0   Calcutta   India\n",
       "39       Infosys  41.0  3000.0     Mumbai   India\n",
       "50       Infosys  41.0  3000.0    Chennai   India\n",
       "57       Infosys  51.0  3184.0  Hyderabad   India\n",
       "68       Infosys  43.0  4034.0     Mumbai   India\n",
       "75       Infosys  44.0  3000.0     Cochin   India\n",
       "86       Infosys  41.0  3000.0      Delhi   India\n",
       "93       Infosys  54.0  3184.0     Mumbai   India\n",
       "104      Infosys  44.0  4034.0      Delhi   India\n",
       "122      Infosys  44.0  3234.0     Mumbai   India\n",
       "129      Infosys  50.0  3184.0   Calcutta   India\n",
       "138    Cognizant  44.0  3033.0     Cochin   India\n",
       "140      Infosys  44.0  4034.0  Hyderabad   India"
      ]
     },
     "execution_count": 124,
     "metadata": {},
     "output_type": "execute_result"
    }
   ],
   "source": [
    "data[(data.Age>40) & (data.Salary<5000)]"
   ]
  },
  {
   "cell_type": "code",
   "execution_count": 125,
   "metadata": {},
   "outputs": [
    {
     "data": {
      "text/plain": [
       "30.8"
      ]
     },
     "execution_count": 125,
     "metadata": {},
     "output_type": "execute_result"
    }
   ],
   "source": [
    "data[\"Age\"].mean()"
   ]
  },
  {
   "cell_type": "code",
   "execution_count": 126,
   "metadata": {},
   "outputs": [
    {
     "data": {
      "text/plain": [
       "4951.45"
      ]
     },
     "execution_count": 126,
     "metadata": {},
     "output_type": "execute_result"
    }
   ],
   "source": [
    "data[\"Salary\"].mean()"
   ]
  },
  {
   "cell_type": "code",
   "execution_count": 127,
   "metadata": {},
   "outputs": [
    {
     "data": {
      "text/plain": [
       "Age         30.80\n",
       "Salary    4951.45\n",
       "dtype: float64"
      ]
     },
     "execution_count": 127,
     "metadata": {},
     "output_type": "execute_result"
    }
   ],
   "source": [
    "data[[\"Age\",\"Salary\"]].apply(lambda x : x.mean())"
   ]
  },
  {
   "cell_type": "code",
   "execution_count": 128,
   "metadata": {},
   "outputs": [],
   "source": [
    "import matplotlib\n",
    "%matplotlib inline"
   ]
  },
  {
   "cell_type": "code",
   "execution_count": 129,
   "metadata": {},
   "outputs": [
    {
     "data": {
      "text/plain": [
       "<AxesSubplot:ylabel='Frequency'>"
      ]
     },
     "execution_count": 129,
     "metadata": {},
     "output_type": "execute_result"
    },
    {
     "data": {
      "image/png": "[encoded data removed]",
      "text/plain": [
       "<Figure size 432x288 with 1 Axes>"
      ]
     },
     "metadata": {
      "needs_background": "light"
     },
     "output_type": "display_data"
    }
   ],
   "source": [
    "data.Age.plot(kind=\"hist\")"
   ]
  },
  {
   "cell_type": "code",
   "execution_count": 130,
   "metadata": {},
   "outputs": [
    {
     "data": {
      "text/plain": [
       "<AxesSubplot:ylabel='Frequency'>"
      ]
     },
     "execution_count": 130,
     "metadata": {},
     "output_type": "execute_result"
    },
    {
     "data": {
      "image/png": "[encoded data removed]",
      "text/plain": [
       "<Figure size 432x288 with 1 Axes>"
      ]
     },
     "metadata": {
      "needs_background": "light"
     },
     "output_type": "display_data"
    }
   ],
   "source": [
    "\n",
    "data.Salary.plot(kind = \"hist\")"
   ]
  },
  {
   "cell_type": "code",
   "execution_count": 131,
   "metadata": {},
   "outputs": [
    {
     "data": {
      "text/plain": [
       "<AxesSubplot:ylabel='Organisation'>"
      ]
     },
     "execution_count": 131,
     "metadata": {},
     "output_type": "execute_result"
    },
    {
     "data": {
      "image/png": "[encoded data removed]",
      "text/plain": [
       "<Figure size 432x288 with 1 Axes>"
      ]
     },
     "metadata": {},
     "output_type": "display_data"
    }
   ],
   "source": [
    "data.Organisation.value_counts().plot(kind=\"pie\")"
   ]
  },
  {
   "cell_type": "code",
   "execution_count": 132,
   "metadata": {},
   "outputs": [
    {
     "data": {
      "text/plain": [
       "Organisation\n",
       "Cognizant                    4183.160000\n",
       "Infosys                      4954.314286\n",
       "Tata Consultancy Services    5429.125000\n",
       "Name: Salary, dtype: float64"
      ]
     },
     "execution_count": 132,
     "metadata": {},
     "output_type": "execute_result"
    }
   ],
   "source": [
    "data.groupby(\"Organisation\").Salary.mean()"
   ]
  },
  {
   "cell_type": "code",
   "execution_count": 133,
   "metadata": {},
   "outputs": [],
   "source": [
    "X = data[[\"Age\"]]\n",
    "y = data[\"Salary\"]"
   ]
  },
  {
   "cell_type": "code",
   "execution_count": 134,
   "metadata": {},
   "outputs": [],
   "source": [
    "from sklearn.model_selection import train_test_split"
   ]
  },
  {
   "cell_type": "code",
   "execution_count": 135,
   "metadata": {},
   "outputs": [],
   "source": [
    "train_X, test_X, train_y, test_y = train_test_split(X, y, test_size = 0.3, random_state = 5)"
   ]
  },
  {
   "cell_type": "code",
   "execution_count": 136,
   "metadata": {},
   "outputs": [
    {
     "data": {
      "text/html": [
       "<div>\n",
       "<style scoped>\n",
       "    .dataframe tbody tr th:only-of-type {\n",
       "        vertical-align: middle;\n",
       "    }\n",
       "\n",
       "    .dataframe tbody tr th {\n",
       "        vertical-align: top;\n",
       "    }\n",
       "\n",
       "    .dataframe thead th {\n",
       "        text-align: right;\n",
       "    }\n",
       "</style>\n",
       "<table border=\"1\" class=\"dataframe\">\n",
       "  <thead>\n",
       "    <tr style=\"text-align: right;\">\n",
       "      <th></th>\n",
       "      <th>Age</th>\n",
       "    </tr>\n",
       "  </thead>\n",
       "  <tbody>\n",
       "    <tr>\n",
       "      <th>8</th>\n",
       "      <td>34.0</td>\n",
       "    </tr>\n",
       "    <tr>\n",
       "      <th>128</th>\n",
       "      <td>33.0</td>\n",
       "    </tr>\n",
       "    <tr>\n",
       "      <th>92</th>\n",
       "      <td>0.0</td>\n",
       "    </tr>\n",
       "    <tr>\n",
       "      <th>32</th>\n",
       "      <td>45.0</td>\n",
       "    </tr>\n",
       "    <tr>\n",
       "      <th>70</th>\n",
       "      <td>21.0</td>\n",
       "    </tr>\n",
       "    <tr>\n",
       "      <th>...</th>\n",
       "      <td>...</td>\n",
       "    </tr>\n",
       "    <tr>\n",
       "      <th>103</th>\n",
       "      <td>22.0</td>\n",
       "    </tr>\n",
       "    <tr>\n",
       "      <th>22</th>\n",
       "      <td>21.0</td>\n",
       "    </tr>\n",
       "    <tr>\n",
       "      <th>87</th>\n",
       "      <td>21.0</td>\n",
       "    </tr>\n",
       "    <tr>\n",
       "      <th>110</th>\n",
       "      <td>33.0</td>\n",
       "    </tr>\n",
       "    <tr>\n",
       "      <th>143</th>\n",
       "      <td>33.0</td>\n",
       "    </tr>\n",
       "  </tbody>\n",
       "</table>\n",
       "<p>70 rows × 1 columns</p>\n",
       "</div>"
      ],
      "text/plain": [
       "      Age\n",
       "8    34.0\n",
       "128  33.0\n",
       "92    0.0\n",
       "32   45.0\n",
       "70   21.0\n",
       "..    ...\n",
       "103  22.0\n",
       "22   21.0\n",
       "87   21.0\n",
       "110  33.0\n",
       "143  33.0\n",
       "\n",
       "[70 rows x 1 columns]"
      ]
     },
     "execution_count": 136,
     "metadata": {},
     "output_type": "execute_result"
    }
   ],
   "source": [
    "train_X"
   ]
  },
  {
   "cell_type": "code",
   "execution_count": 137,
   "metadata": {},
   "outputs": [
    {
     "data": {
      "text/plain": [
       "((70, 1), (30, 1), (70,), (30,))"
      ]
     },
     "execution_count": 137,
     "metadata": {},
     "output_type": "execute_result"
    }
   ],
   "source": [
    "train_X.shape, test_X.shape, train_y.shape, test_y.shape"
   ]
  },
  {
   "cell_type": "code",
   "execution_count": 138,
   "metadata": {},
   "outputs": [],
   "source": [
    "import seaborn as sns"
   ]
  },
  {
   "cell_type": "code",
   "execution_count": 139,
   "metadata": {},
   "outputs": [
    {
     "data": {
      "text/plain": [
       "<AxesSubplot:xlabel='Age', ylabel='Salary'>"
      ]
     },
     "execution_count": 139,
     "metadata": {},
     "output_type": "execute_result"
    },
    {
     "data": {
      "image/png": "[encoded data removed]",
      "text/plain": [
       "<Figure size 432x288 with 1 Axes>"
      ]
     },
     "metadata": {
      "needs_background": "light"
     },
     "output_type": "display_data"
    }
   ],
   "source": [
    "data.plot(kind=\"scatter\",x=\"Age\",y=\"Salary\")"
   ]
  },
  {
   "cell_type": "code",
   "execution_count": 140,
   "metadata": {},
   "outputs": [],
   "source": [
    "\n",
    "from sklearn.linear_model import LinearRegression"
   ]
  },
  {
   "cell_type": "code",
   "execution_count": 141,
   "metadata": {},
   "outputs": [],
   "source": [
    "model=LinearRegression()"
   ]
  },
  {
   "cell_type": "code",
   "execution_count": 142,
   "metadata": {},
   "outputs": [
    {
     "data": {
      "text/plain": [
       "LinearRegression(copy_X=True, fit_intercept=True, n_jobs=None, normalize=False)"
      ]
     },
     "execution_count": 142,
     "metadata": {},
     "output_type": "execute_result"
    }
   ],
   "source": [
    "model.fit(train_X, train_y)"
   ]
  },
  {
   "cell_type": "code",
   "execution_count": 143,
   "metadata": {},
   "outputs": [
    {
     "data": {
      "text/plain": [
       "3845.2295556299223"
      ]
     },
     "execution_count": 143,
     "metadata": {},
     "output_type": "execute_result"
    }
   ],
   "source": [
    "model.intercept_"
   ]
  },
  {
   "cell_type": "code",
   "execution_count": 144,
   "metadata": {},
   "outputs": [
    {
     "data": {
      "text/plain": [
       "array([33.24298437])"
      ]
     },
     "execution_count": 144,
     "metadata": {},
     "output_type": "execute_result"
    }
   ],
   "source": [
    "model.coef_"
   ]
  },
  {
   "cell_type": "code",
   "execution_count": 145,
   "metadata": {},
   "outputs": [],
   "source": [
    "pred_train = model.predict(train_X)"
   ]
  },
  {
   "cell_type": "code",
   "execution_count": 146,
   "metadata": {},
   "outputs": [
    {
     "data": {
      "text/plain": [
       "array([4975.49102432, 4942.24803995, 3845.22955563, 5341.16385243,\n",
       "       4543.33222747, 5075.21997744, 3845.22955563, 4942.24803995,\n",
       "       5341.16385243, 4510.0892431 , 4476.84625872, 4643.06118059,\n",
       "       4909.00505558, 5075.21997744, 3845.22955563, 3845.22955563,\n",
       "       4576.57521184, 4942.24803995, 4942.24803995, 4609.81819622,\n",
       "       4576.57521184, 4543.33222747, 4576.57521184, 4942.24803995,\n",
       "       5507.37877429, 5307.92086806, 4975.49102432, 4942.24803995,\n",
       "       4410.36028998, 4609.81819622, 4942.24803995, 4909.00505558,\n",
       "       4942.24803995, 4609.81819622, 5374.4068368 , 4942.24803995,\n",
       "       5307.92086806, 5008.7340087 , 4942.24803995, 5008.7340087 ,\n",
       "       4942.24803995, 4609.81819622, 5307.92086806, 5174.94893056,\n",
       "       4875.7620712 , 4609.81819622, 4443.60327435, 4942.24803995,\n",
       "       4875.7620712 , 4909.00505558, 5640.35071179, 4942.24803995,\n",
       "       3845.22955563, 4875.7620712 , 5174.94893056, 4942.24803995,\n",
       "       4942.24803995, 5507.37877429, 4576.57521184, 5341.16385243,\n",
       "       4576.57521184, 5008.7340087 , 4975.49102432, 3845.22955563,\n",
       "       4975.49102432, 4576.57521184, 4543.33222747, 4543.33222747,\n",
       "       4942.24803995, 4942.24803995])"
      ]
     },
     "execution_count": 146,
     "metadata": {},
     "output_type": "execute_result"
    }
   ],
   "source": [
    "pred_train"
   ]
  },
  {
   "cell_type": "code",
   "execution_count": 151,
   "metadata": {},
   "outputs": [],
   "source": [
    "pred_test = model.predict(test_X)"
   ]
  },
  {
   "cell_type": "code",
   "execution_count": 152,
   "metadata": {},
   "outputs": [
    {
     "data": {
      "text/plain": [
       "array([4576.57521184, 4909.00505558, 5274.67788368, 5208.19191494,\n",
       "       5307.92086806, 5008.7340087 , 5174.94893056, 4975.49102432,\n",
       "       4942.24803995, 4543.33222747, 4942.24803995, 4543.33222747,\n",
       "       4942.24803995, 5540.62175867, 5208.19191494, 5208.19191494,\n",
       "       4942.24803995, 5274.67788368, 4609.81819622, 4576.57521184,\n",
       "       5307.92086806, 4909.00505558, 4609.81819622, 5108.46296182,\n",
       "       5374.4068368 , 4975.49102432, 5041.97699307, 5307.92086806,\n",
       "       4709.54714934, 4842.51908683])"
      ]
     },
     "execution_count": 152,
     "metadata": {},
     "output_type": "execute_result"
    }
   ],
   "source": [
    "pred_test"
   ]
  },
  {
   "cell_type": "code",
   "execution_count": 147,
   "metadata": {},
   "outputs": [],
   "source": [
    "import matplotlib.pyplot as plt"
   ]
  },
  {
   "cell_type": "code",
   "execution_count": 169,
   "metadata": {},
   "outputs": [
    {
     "data": {
      "text/plain": [
       "[<matplotlib.lines.Line2D at 0xf6f0688>]"
      ]
     },
     "execution_count": 169,
     "metadata": {},
     "output_type": "execute_result"
    },
    {
     "data": {
      "image/png": "[encoded data removed]",
      "text/plain": [
       "<Figure size 432x288 with 1 Axes>"
      ]
     },
     "metadata": {
      "needs_background": "light"
     },
     "output_type": "display_data"
    }
   ],
   "source": [
    "plt.scatter(train_X,train_y,color=\"green\")\n",
    "plt.scatter(test_X,test_y,color=\"red\")\n",
    "plt.plot(train_X,pred_train,color=\"blue\")\n",
    "plt.plot(test_X,pred_test,color=\"aqua\")"
   ]
  },
  {
   "cell_type": "code",
   "execution_count": 165,
   "metadata": {},
   "outputs": [],
   "source": [
    "from sklearn.metrics import mean_squared_error,mean_absolute_error,r2_score"
   ]
  },
  {
   "cell_type": "code",
   "execution_count": 170,
   "metadata": {},
   "outputs": [
    {
     "data": {
      "text/plain": [
       "6462794.8947598245"
      ]
     },
     "execution_count": 170,
     "metadata": {},
     "output_type": "execute_result"
    }
   ],
   "source": [
    "mean_squared_error(train_y,pred_train)"
   ]
  },
  {
   "cell_type": "code",
   "execution_count": 171,
   "metadata": {},
   "outputs": [
    {
     "data": {
      "text/plain": [
       "6362799.542283094"
      ]
     },
     "execution_count": 171,
     "metadata": {},
     "output_type": "execute_result"
    }
   ],
   "source": [
    "mean_squared_error(test_y, pred_test)"
   ]
  },
  {
   "cell_type": "code",
   "execution_count": 172,
   "metadata": {},
   "outputs": [
    {
     "data": {
      "text/plain": [
       "2177.9008438288124"
      ]
     },
     "execution_count": 172,
     "metadata": {},
     "output_type": "execute_result"
    }
   ],
   "source": [
    "mean_absolute_error(train_y, pred_train)"
   ]
  },
  {
   "cell_type": "code",
   "execution_count": 173,
   "metadata": {},
   "outputs": [
    {
     "data": {
      "text/plain": [
       "2137.0547853526487"
      ]
     },
     "execution_count": 173,
     "metadata": {},
     "output_type": "execute_result"
    }
   ],
   "source": [
    "mean_absolute_error(test_y, pred_test)"
   ]
  },
  {
   "cell_type": "code",
   "execution_count": 174,
   "metadata": {},
   "outputs": [
    {
     "data": {
      "text/plain": [
       "0.024713238956217465"
      ]
     },
     "execution_count": 174,
     "metadata": {},
     "output_type": "execute_result"
    }
   ],
   "source": [
    "r2_score(train_y, pred_train)"
   ]
  },
  {
   "cell_type": "code",
   "execution_count": 175,
   "metadata": {},
   "outputs": [
    {
     "data": {
      "text/plain": [
       "-0.06983299009583788"
      ]
     },
     "execution_count": 175,
     "metadata": {},
     "output_type": "execute_result"
    }
   ],
   "source": [
    "r2_score(test_y, pred_test)"
   ]
  },
  {
   "cell_type": "code",
   "execution_count": 179,
   "metadata": {},
   "outputs": [],
   "source": [
    "data_Org = pd.get_dummies(data.Organisation)"
   ]
  },
  {
   "cell_type": "code",
   "execution_count": 180,
   "metadata": {},
   "outputs": [],
   "source": [
    "data_place = pd.get_dummies(data.Place)"
   ]
  },
  {
   "cell_type": "code",
   "execution_count": 182,
   "metadata": {},
   "outputs": [],
   "source": [
    "data_new = pd.concat([data_Org,data_place,data[[\"Age\",\"Salary\"]]], axis = 1)"
   ]
  },
  {
   "cell_type": "code",
   "execution_count": 184,
   "metadata": {},
   "outputs": [],
   "source": [
    "X = data_new.drop(columns=\"Salary\")"
   ]
  },
  {
   "cell_type": "code",
   "execution_count": 183,
   "metadata": {},
   "outputs": [],
   "source": [
    "\n",
    "y = data_new[\"Salary\"]"
   ]
  },
  {
   "cell_type": "code",
   "execution_count": 185,
   "metadata": {},
   "outputs": [
    {
     "data": {
      "text/html": [
       "<div>\n",
       "<style scoped>\n",
       "    .dataframe tbody tr th:only-of-type {\n",
       "        vertical-align: middle;\n",
       "    }\n",
       "\n",
       "    .dataframe tbody tr th {\n",
       "        vertical-align: top;\n",
       "    }\n",
       "\n",
       "    .dataframe thead th {\n",
       "        text-align: right;\n",
       "    }\n",
       "</style>\n",
       "<table border=\"1\" class=\"dataframe\">\n",
       "  <thead>\n",
       "    <tr style=\"text-align: right;\">\n",
       "      <th></th>\n",
       "      <th>Cognizant</th>\n",
       "      <th>Infosys</th>\n",
       "      <th>Tata Consultancy Services</th>\n",
       "      <th>Bhopal</th>\n",
       "      <th>Calcutta</th>\n",
       "      <th>Chennai</th>\n",
       "      <th>Cochin</th>\n",
       "      <th>Delhi</th>\n",
       "      <th>Hyderabad</th>\n",
       "      <th>Mumbai</th>\n",
       "      <th>Nagpur</th>\n",
       "      <th>Noida</th>\n",
       "      <th>Podicherry</th>\n",
       "      <th>Pune</th>\n",
       "      <th>Age</th>\n",
       "      <th>Salary</th>\n",
       "    </tr>\n",
       "  </thead>\n",
       "  <tbody>\n",
       "    <tr>\n",
       "      <th>Cognizant</th>\n",
       "      <td>1.000000</td>\n",
       "      <td>-0.423659</td>\n",
       "      <td>-4.714045e-01</td>\n",
       "      <td>-0.058026</td>\n",
       "      <td>-0.066667</td>\n",
       "      <td>-3.849002e-02</td>\n",
       "      <td>0.018452</td>\n",
       "      <td>-0.055357</td>\n",
       "      <td>0.048622</td>\n",
       "      <td>-1.333333e-02</td>\n",
       "      <td>-0.058026</td>\n",
       "      <td>0.048622</td>\n",
       "      <td>0.169224</td>\n",
       "      <td>0.174078</td>\n",
       "      <td>-0.052561</td>\n",
       "      <td>-0.174432</td>\n",
       "    </tr>\n",
       "    <tr>\n",
       "      <th>Infosys</th>\n",
       "      <td>-0.423659</td>\n",
       "      <td>1.000000</td>\n",
       "      <td>-5.991447e-01</td>\n",
       "      <td>0.136964</td>\n",
       "      <td>-0.036314</td>\n",
       "      <td>3.494283e-02</td>\n",
       "      <td>0.010051</td>\n",
       "      <td>0.010051</td>\n",
       "      <td>0.079453</td>\n",
       "      <td>1.210455e-02</td>\n",
       "      <td>-0.073750</td>\n",
       "      <td>-0.097110</td>\n",
       "      <td>-0.006145</td>\n",
       "      <td>-0.073750</td>\n",
       "      <td>0.144988</td>\n",
       "      <td>0.000827</td>\n",
       "    </tr>\n",
       "    <tr>\n",
       "      <th>Tata Consultancy Services</th>\n",
       "      <td>-0.471405</td>\n",
       "      <td>-0.599145</td>\n",
       "      <td>1.000000e+00</td>\n",
       "      <td>-0.082061</td>\n",
       "      <td>0.094281</td>\n",
       "      <td>1.510822e-17</td>\n",
       "      <td>-0.026095</td>\n",
       "      <td>0.039143</td>\n",
       "      <td>-0.120332</td>\n",
       "      <td>-3.925231e-18</td>\n",
       "      <td>0.123091</td>\n",
       "      <td>0.051571</td>\n",
       "      <td>-0.143592</td>\n",
       "      <td>-0.082061</td>\n",
       "      <td>-0.094703</td>\n",
       "      <td>0.153373</td>\n",
       "    </tr>\n",
       "    <tr>\n",
       "      <th>Bhopal</th>\n",
       "      <td>-0.058026</td>\n",
       "      <td>0.136964</td>\n",
       "      <td>-8.206099e-02</td>\n",
       "      <td>1.000000</td>\n",
       "      <td>-0.058026</td>\n",
       "      <td>-3.350126e-02</td>\n",
       "      <td>-0.035333</td>\n",
       "      <td>-0.035333</td>\n",
       "      <td>-0.025392</td>\n",
       "      <td>-5.802589e-02</td>\n",
       "      <td>-0.010101</td>\n",
       "      <td>-0.025392</td>\n",
       "      <td>-0.017675</td>\n",
       "      <td>-0.010101</td>\n",
       "      <td>-0.042230</td>\n",
       "      <td>0.080964</td>\n",
       "    </tr>\n",
       "    <tr>\n",
       "      <th>Calcutta</th>\n",
       "      <td>-0.066667</td>\n",
       "      <td>-0.036314</td>\n",
       "      <td>9.428090e-02</td>\n",
       "      <td>-0.058026</td>\n",
       "      <td>1.000000</td>\n",
       "      <td>-1.924501e-01</td>\n",
       "      <td>-0.202974</td>\n",
       "      <td>-0.202974</td>\n",
       "      <td>-0.145865</td>\n",
       "      <td>-3.333333e-01</td>\n",
       "      <td>-0.058026</td>\n",
       "      <td>-0.145865</td>\n",
       "      <td>-0.101535</td>\n",
       "      <td>-0.058026</td>\n",
       "      <td>-0.099058</td>\n",
       "      <td>-0.035221</td>\n",
       "    </tr>\n",
       "    <tr>\n",
       "      <th>Chennai</th>\n",
       "      <td>-0.038490</td>\n",
       "      <td>0.034943</td>\n",
       "      <td>1.510822e-17</td>\n",
       "      <td>-0.033501</td>\n",
       "      <td>-0.192450</td>\n",
       "      <td>1.000000e+00</td>\n",
       "      <td>-0.117187</td>\n",
       "      <td>-0.117187</td>\n",
       "      <td>-0.084215</td>\n",
       "      <td>-1.924501e-01</td>\n",
       "      <td>-0.033501</td>\n",
       "      <td>-0.084215</td>\n",
       "      <td>-0.058621</td>\n",
       "      <td>-0.033501</td>\n",
       "      <td>0.002918</td>\n",
       "      <td>0.115463</td>\n",
       "    </tr>\n",
       "    <tr>\n",
       "      <th>Cochin</th>\n",
       "      <td>0.018452</td>\n",
       "      <td>0.010051</td>\n",
       "      <td>-2.609534e-02</td>\n",
       "      <td>-0.035333</td>\n",
       "      <td>-0.202974</td>\n",
       "      <td>-1.171872e-01</td>\n",
       "      <td>1.000000</td>\n",
       "      <td>-0.123596</td>\n",
       "      <td>-0.088820</td>\n",
       "      <td>-2.029741e-01</td>\n",
       "      <td>-0.035333</td>\n",
       "      <td>-0.088820</td>\n",
       "      <td>-0.061827</td>\n",
       "      <td>-0.035333</td>\n",
       "      <td>0.031334</td>\n",
       "      <td>-0.025538</td>\n",
       "    </tr>\n",
       "    <tr>\n",
       "      <th>Delhi</th>\n",
       "      <td>-0.055357</td>\n",
       "      <td>0.010051</td>\n",
       "      <td>3.914302e-02</td>\n",
       "      <td>-0.035333</td>\n",
       "      <td>-0.202974</td>\n",
       "      <td>-1.171872e-01</td>\n",
       "      <td>-0.123596</td>\n",
       "      <td>1.000000</td>\n",
       "      <td>-0.088820</td>\n",
       "      <td>-2.029741e-01</td>\n",
       "      <td>-0.035333</td>\n",
       "      <td>-0.088820</td>\n",
       "      <td>-0.061827</td>\n",
       "      <td>-0.035333</td>\n",
       "      <td>0.140445</td>\n",
       "      <td>-0.016011</td>\n",
       "    </tr>\n",
       "    <tr>\n",
       "      <th>Hyderabad</th>\n",
       "      <td>0.048622</td>\n",
       "      <td>0.079453</td>\n",
       "      <td>-1.203325e-01</td>\n",
       "      <td>-0.025392</td>\n",
       "      <td>-0.145865</td>\n",
       "      <td>-8.421519e-02</td>\n",
       "      <td>-0.088820</td>\n",
       "      <td>-0.088820</td>\n",
       "      <td>1.000000</td>\n",
       "      <td>-1.458650e-01</td>\n",
       "      <td>-0.025392</td>\n",
       "      <td>-0.063830</td>\n",
       "      <td>-0.044431</td>\n",
       "      <td>-0.025392</td>\n",
       "      <td>0.196095</td>\n",
       "      <td>-0.056493</td>\n",
       "    </tr>\n",
       "    <tr>\n",
       "      <th>Mumbai</th>\n",
       "      <td>-0.013333</td>\n",
       "      <td>0.012105</td>\n",
       "      <td>-3.925231e-18</td>\n",
       "      <td>-0.058026</td>\n",
       "      <td>-0.333333</td>\n",
       "      <td>-1.924501e-01</td>\n",
       "      <td>-0.202974</td>\n",
       "      <td>-0.202974</td>\n",
       "      <td>-0.145865</td>\n",
       "      <td>1.000000e+00</td>\n",
       "      <td>-0.058026</td>\n",
       "      <td>-0.145865</td>\n",
       "      <td>-0.101535</td>\n",
       "      <td>-0.058026</td>\n",
       "      <td>-0.111188</td>\n",
       "      <td>-0.011890</td>\n",
       "    </tr>\n",
       "    <tr>\n",
       "      <th>Nagpur</th>\n",
       "      <td>-0.058026</td>\n",
       "      <td>-0.073750</td>\n",
       "      <td>1.230915e-01</td>\n",
       "      <td>-0.010101</td>\n",
       "      <td>-0.058026</td>\n",
       "      <td>-3.350126e-02</td>\n",
       "      <td>-0.035333</td>\n",
       "      <td>-0.035333</td>\n",
       "      <td>-0.025392</td>\n",
       "      <td>-5.802589e-02</td>\n",
       "      <td>1.000000</td>\n",
       "      <td>-0.025392</td>\n",
       "      <td>-0.017675</td>\n",
       "      <td>-0.010101</td>\n",
       "      <td>0.010557</td>\n",
       "      <td>0.120486</td>\n",
       "    </tr>\n",
       "    <tr>\n",
       "      <th>Noida</th>\n",
       "      <td>0.048622</td>\n",
       "      <td>-0.097110</td>\n",
       "      <td>5.157106e-02</td>\n",
       "      <td>-0.025392</td>\n",
       "      <td>-0.145865</td>\n",
       "      <td>-8.421519e-02</td>\n",
       "      <td>-0.088820</td>\n",
       "      <td>-0.088820</td>\n",
       "      <td>-0.063830</td>\n",
       "      <td>-1.458650e-01</td>\n",
       "      <td>-0.025392</td>\n",
       "      <td>1.000000</td>\n",
       "      <td>-0.044431</td>\n",
       "      <td>-0.025392</td>\n",
       "      <td>0.019167</td>\n",
       "      <td>-0.091779</td>\n",
       "    </tr>\n",
       "    <tr>\n",
       "      <th>Podicherry</th>\n",
       "      <td>0.169224</td>\n",
       "      <td>-0.006145</td>\n",
       "      <td>-1.435916e-01</td>\n",
       "      <td>-0.017675</td>\n",
       "      <td>-0.101535</td>\n",
       "      <td>-5.862104e-02</td>\n",
       "      <td>-0.061827</td>\n",
       "      <td>-0.061827</td>\n",
       "      <td>-0.044431</td>\n",
       "      <td>-1.015346e-01</td>\n",
       "      <td>-0.017675</td>\n",
       "      <td>-0.044431</td>\n",
       "      <td>1.000000</td>\n",
       "      <td>-0.017675</td>\n",
       "      <td>-0.130341</td>\n",
       "      <td>-0.011673</td>\n",
       "    </tr>\n",
       "    <tr>\n",
       "      <th>Pune</th>\n",
       "      <td>0.174078</td>\n",
       "      <td>-0.073750</td>\n",
       "      <td>-8.206099e-02</td>\n",
       "      <td>-0.010101</td>\n",
       "      <td>-0.058026</td>\n",
       "      <td>-3.350126e-02</td>\n",
       "      <td>-0.035333</td>\n",
       "      <td>-0.035333</td>\n",
       "      <td>-0.025392</td>\n",
       "      <td>-5.802589e-02</td>\n",
       "      <td>-0.010101</td>\n",
       "      <td>-0.025392</td>\n",
       "      <td>-0.017675</td>\n",
       "      <td>1.000000</td>\n",
       "      <td>0.107334</td>\n",
       "      <td>0.160009</td>\n",
       "    </tr>\n",
       "    <tr>\n",
       "      <th>Age</th>\n",
       "      <td>-0.052561</td>\n",
       "      <td>0.144988</td>\n",
       "      <td>-9.470327e-02</td>\n",
       "      <td>-0.042230</td>\n",
       "      <td>-0.099058</td>\n",
       "      <td>2.917921e-03</td>\n",
       "      <td>0.031334</td>\n",
       "      <td>0.140445</td>\n",
       "      <td>0.196095</td>\n",
       "      <td>-1.111877e-01</td>\n",
       "      <td>0.010557</td>\n",
       "      <td>0.019167</td>\n",
       "      <td>-0.130341</td>\n",
       "      <td>0.107334</td>\n",
       "      <td>1.000000</td>\n",
       "      <td>0.095678</td>\n",
       "    </tr>\n",
       "    <tr>\n",
       "      <th>Salary</th>\n",
       "      <td>-0.174432</td>\n",
       "      <td>0.000827</td>\n",
       "      <td>1.533731e-01</td>\n",
       "      <td>0.080964</td>\n",
       "      <td>-0.035221</td>\n",
       "      <td>1.154630e-01</td>\n",
       "      <td>-0.025538</td>\n",
       "      <td>-0.016011</td>\n",
       "      <td>-0.056493</td>\n",
       "      <td>-1.189006e-02</td>\n",
       "      <td>0.120486</td>\n",
       "      <td>-0.091779</td>\n",
       "      <td>-0.011673</td>\n",
       "      <td>0.160009</td>\n",
       "      <td>0.095678</td>\n",
       "      <td>1.000000</td>\n",
       "    </tr>\n",
       "  </tbody>\n",
       "</table>\n",
       "</div>"
      ],
      "text/plain": [
       "                           Cognizant   Infosys  Tata Consultancy Services  \\\n",
       "Cognizant                   1.000000 -0.423659              -4.714045e-01   \n",
       "Infosys                    -0.423659  1.000000              -5.991447e-01   \n",
       "Tata Consultancy Services  -0.471405 -0.599145               1.000000e+00   \n",
       "Bhopal                     -0.058026  0.136964              -8.206099e-02   \n",
       "Calcutta                   -0.066667 -0.036314               9.428090e-02   \n",
       "Chennai                    -0.038490  0.034943               1.510822e-17   \n",
       "Cochin                      0.018452  0.010051              -2.609534e-02   \n",
       "Delhi                      -0.055357  0.010051               3.914302e-02   \n",
       "Hyderabad                   0.048622  0.079453              -1.203325e-01   \n",
       "Mumbai                     -0.013333  0.012105              -3.925231e-18   \n",
       "Nagpur                     -0.058026 -0.073750               1.230915e-01   \n",
       "Noida                       0.048622 -0.097110               5.157106e-02   \n",
       "Podicherry                  0.169224 -0.006145              -1.435916e-01   \n",
       "Pune                        0.174078 -0.073750              -8.206099e-02   \n",
       "Age                        -0.052561  0.144988              -9.470327e-02   \n",
       "Salary                     -0.174432  0.000827               1.533731e-01   \n",
       "\n",
       "                             Bhopal  Calcutta       Chennai    Cochin  \\\n",
       "Cognizant                 -0.058026 -0.066667 -3.849002e-02  0.018452   \n",
       "Infosys                    0.136964 -0.036314  3.494283e-02  0.010051   \n",
       "Tata Consultancy Services -0.082061  0.094281  1.510822e-17 -0.026095   \n",
       "Bhopal                     1.000000 -0.058026 -3.350126e-02 -0.035333   \n",
       "Calcutta                  -0.058026  1.000000 -1.924501e-01 -0.202974   \n",
       "Chennai                   -0.033501 -0.192450  1.000000e+00 -0.117187   \n",
       "Cochin                    -0.035333 -0.202974 -1.171872e-01  1.000000   \n",
       "Delhi                     -0.035333 -0.202974 -1.171872e-01 -0.123596   \n",
       "Hyderabad                 -0.025392 -0.145865 -8.421519e-02 -0.088820   \n",
       "Mumbai                    -0.058026 -0.333333 -1.924501e-01 -0.202974   \n",
       "Nagpur                    -0.010101 -0.058026 -3.350126e-02 -0.035333   \n",
       "Noida                     -0.025392 -0.145865 -8.421519e-02 -0.088820   \n",
       "Podicherry                -0.017675 -0.101535 -5.862104e-02 -0.061827   \n",
       "Pune                      -0.010101 -0.058026 -3.350126e-02 -0.035333   \n",
       "Age                       -0.042230 -0.099058  2.917921e-03  0.031334   \n",
       "Salary                     0.080964 -0.035221  1.154630e-01 -0.025538   \n",
       "\n",
       "                              Delhi  Hyderabad        Mumbai    Nagpur  \\\n",
       "Cognizant                 -0.055357   0.048622 -1.333333e-02 -0.058026   \n",
       "Infosys                    0.010051   0.079453  1.210455e-02 -0.073750   \n",
       "Tata Consultancy Services  0.039143  -0.120332 -3.925231e-18  0.123091   \n",
       "Bhopal                    -0.035333  -0.025392 -5.802589e-02 -0.010101   \n",
       "Calcutta                  -0.202974  -0.145865 -3.333333e-01 -0.058026   \n",
       "Chennai                   -0.117187  -0.084215 -1.924501e-01 -0.033501   \n",
       "Cochin                    -0.123596  -0.088820 -2.029741e-01 -0.035333   \n",
       "Delhi                      1.000000  -0.088820 -2.029741e-01 -0.035333   \n",
       "Hyderabad                 -0.088820   1.000000 -1.458650e-01 -0.025392   \n",
       "Mumbai                    -0.202974  -0.145865  1.000000e+00 -0.058026   \n",
       "Nagpur                    -0.035333  -0.025392 -5.802589e-02  1.000000   \n",
       "Noida                     -0.088820  -0.063830 -1.458650e-01 -0.025392   \n",
       "Podicherry                -0.061827  -0.044431 -1.015346e-01 -0.017675   \n",
       "Pune                      -0.035333  -0.025392 -5.802589e-02 -0.010101   \n",
       "Age                        0.140445   0.196095 -1.111877e-01  0.010557   \n",
       "Salary                    -0.016011  -0.056493 -1.189006e-02  0.120486   \n",
       "\n",
       "                              Noida  Podicherry      Pune       Age    Salary  \n",
       "Cognizant                  0.048622    0.169224  0.174078 -0.052561 -0.174432  \n",
       "Infosys                   -0.097110   -0.006145 -0.073750  0.144988  0.000827  \n",
       "Tata Consultancy Services  0.051571   -0.143592 -0.082061 -0.094703  0.153373  \n",
       "Bhopal                    -0.025392   -0.017675 -0.010101 -0.042230  0.080964  \n",
       "Calcutta                  -0.145865   -0.101535 -0.058026 -0.099058 -0.035221  \n",
       "Chennai                   -0.084215   -0.058621 -0.033501  0.002918  0.115463  \n",
       "Cochin                    -0.088820   -0.061827 -0.035333  0.031334 -0.025538  \n",
       "Delhi                     -0.088820   -0.061827 -0.035333  0.140445 -0.016011  \n",
       "Hyderabad                 -0.063830   -0.044431 -0.025392  0.196095 -0.056493  \n",
       "Mumbai                    -0.145865   -0.101535 -0.058026 -0.111188 -0.011890  \n",
       "Nagpur                    -0.025392   -0.017675 -0.010101  0.010557  0.120486  \n",
       "Noida                      1.000000   -0.044431 -0.025392  0.019167 -0.091779  \n",
       "Podicherry                -0.044431    1.000000 -0.017675 -0.130341 -0.011673  \n",
       "Pune                      -0.025392   -0.017675  1.000000  0.107334  0.160009  \n",
       "Age                        0.019167   -0.130341  0.107334  1.000000  0.095678  \n",
       "Salary                    -0.091779   -0.011673  0.160009  0.095678  1.000000  "
      ]
     },
     "execution_count": 185,
     "metadata": {},
     "output_type": "execute_result"
    }
   ],
   "source": [
    "data_new.corr()"
   ]
  },
  {
   "cell_type": "code",
   "execution_count": 186,
   "metadata": {},
   "outputs": [
    {
     "name": "stdout",
     "output_type": "stream",
     "text": [
      "Train - MSE 6462794.8947598245\n",
      "Test - MSE 6362799.542283094\n",
      "Train - MAE 2177.9008438288124\n",
      "Test - MAE 2137.0547853526487\n",
      "Train - R2 Score 0.024713238956217465\n",
      "Test - R2 Score -0.06983299009583788\n"
     ]
    }
   ],
   "source": [
    "from sklearn.metrics import mean_squared_error, mean_absolute_error, r2_score\n",
    "\n",
    "print(\"Train - MSE\",mean_squared_error(train_y, pred_train))\n",
    "\n",
    "print(\"Test - MSE\",mean_squared_error(test_y, pred_test))\n",
    "\n",
    "print(\"Train - MAE\",mean_absolute_error(train_y, pred_train))\n",
    "\n",
    "print(\"Test - MAE\",mean_absolute_error(test_y, pred_test))\n",
    "\n",
    "print(\"Train - R2 Score\",r2_score(train_y, pred_train))\n",
    "\n",
    "print(\"Test - R2 Score\",r2_score(test_y, pred_test))"
   ]
  }
 ],
 "metadata": {
  "kernelspec": {
   "display_name": "Python 3",
   "language": "python",
   "name": "python3"
  },
  "language_info": {
   "codemirror_mode": {
    "name": "ipython",
    "version": 3
   },
   "file_extension": ".py",
   "mimetype": "text/x-python",
   "name": "python",
   "nbconvert_exporter": "python",
   "pygments_lexer": "ipython3",
   "version": "3.7.6"
  }
 },
 "nbformat": 4,
 "nbformat_minor": 4
}

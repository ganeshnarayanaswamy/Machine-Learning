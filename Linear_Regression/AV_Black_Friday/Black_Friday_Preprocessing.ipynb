{
 "cells": [
  {
   "cell_type": "code",
   "execution_count": 1,
   "id": "7b72a8d4",
   "metadata": {},
   "outputs": [],
   "source": [
    "import pandas as pd\n",
    "import numpy as np\n",
    "import matplotlib.pyplot as plt\n",
    "import seaborn as sns\n",
    "from sklearn.preprocessing import StandardScaler\n",
    "\n",
    "%matplotlib inline"
   ]
  },
  {
   "cell_type": "code",
   "execution_count": 2,
   "id": "e6b845e5",
   "metadata": {},
   "outputs": [],
   "source": [
    "train_data=pd.read_csv(\"train.csv\")\n",
    "test_data=pd.read_csv(\"test.csv\")\n",
    "sample_submission = pd.read_csv(\"sample_submission_V9Inaty.csv\")"
   ]
  },
  {
   "cell_type": "code",
   "execution_count": 3,
   "id": "5e3fd1c5",
   "metadata": {},
   "outputs": [
    {
     "data": {
      "text/html": [
       "<div>\n",
       "<style scoped>\n",
       "    .dataframe tbody tr th:only-of-type {\n",
       "        vertical-align: middle;\n",
       "    }\n",
       "\n",
       "    .dataframe tbody tr th {\n",
       "        vertical-align: top;\n",
       "    }\n",
       "\n",
       "    .dataframe thead th {\n",
       "        text-align: right;\n",
       "    }\n",
       "</style>\n",
       "<table border=\"1\" class=\"dataframe\">\n",
       "  <thead>\n",
       "    <tr style=\"text-align: right;\">\n",
       "      <th></th>\n",
       "      <th>User_ID</th>\n",
       "      <th>Product_ID</th>\n",
       "      <th>Gender</th>\n",
       "      <th>Age</th>\n",
       "      <th>Occupation</th>\n",
       "      <th>City_Category</th>\n",
       "      <th>Stay_In_Current_City_Years</th>\n",
       "      <th>Marital_Status</th>\n",
       "      <th>Product_Category_1</th>\n",
       "      <th>Product_Category_2</th>\n",
       "      <th>Product_Category_3</th>\n",
       "      <th>Purchase</th>\n",
       "    </tr>\n",
       "  </thead>\n",
       "  <tbody>\n",
       "    <tr>\n",
       "      <th>0</th>\n",
       "      <td>1000001</td>\n",
       "      <td>P00069042</td>\n",
       "      <td>F</td>\n",
       "      <td>0-17</td>\n",
       "      <td>10.0</td>\n",
       "      <td>A</td>\n",
       "      <td>2</td>\n",
       "      <td>0.0</td>\n",
       "      <td>3.0</td>\n",
       "      <td>NaN</td>\n",
       "      <td>NaN</td>\n",
       "      <td>8370.0</td>\n",
       "    </tr>\n",
       "    <tr>\n",
       "      <th>1</th>\n",
       "      <td>1000001</td>\n",
       "      <td>P00248942</td>\n",
       "      <td>F</td>\n",
       "      <td>0-17</td>\n",
       "      <td>10.0</td>\n",
       "      <td>A</td>\n",
       "      <td>2</td>\n",
       "      <td>0.0</td>\n",
       "      <td>1.0</td>\n",
       "      <td>6.0</td>\n",
       "      <td>14.0</td>\n",
       "      <td>15200.0</td>\n",
       "    </tr>\n",
       "    <tr>\n",
       "      <th>2</th>\n",
       "      <td>1000001</td>\n",
       "      <td>P00087842</td>\n",
       "      <td>F</td>\n",
       "      <td>0-17</td>\n",
       "      <td>10.0</td>\n",
       "      <td>A</td>\n",
       "      <td>2</td>\n",
       "      <td>0.0</td>\n",
       "      <td>12.0</td>\n",
       "      <td>NaN</td>\n",
       "      <td>NaN</td>\n",
       "      <td>1422.0</td>\n",
       "    </tr>\n",
       "    <tr>\n",
       "      <th>3</th>\n",
       "      <td>1000001</td>\n",
       "      <td>P00085442</td>\n",
       "      <td>F</td>\n",
       "      <td>0-17</td>\n",
       "      <td>10.0</td>\n",
       "      <td>A</td>\n",
       "      <td>2</td>\n",
       "      <td>0.0</td>\n",
       "      <td>12.0</td>\n",
       "      <td>14.0</td>\n",
       "      <td>NaN</td>\n",
       "      <td>1057.0</td>\n",
       "    </tr>\n",
       "    <tr>\n",
       "      <th>4</th>\n",
       "      <td>1000002</td>\n",
       "      <td>P00285442</td>\n",
       "      <td>M</td>\n",
       "      <td>55+</td>\n",
       "      <td>16.0</td>\n",
       "      <td>C</td>\n",
       "      <td>4+</td>\n",
       "      <td>0.0</td>\n",
       "      <td>8.0</td>\n",
       "      <td>NaN</td>\n",
       "      <td>NaN</td>\n",
       "      <td>7969.0</td>\n",
       "    </tr>\n",
       "  </tbody>\n",
       "</table>\n",
       "</div>"
      ],
      "text/plain": [
       "   User_ID Product_ID Gender   Age  Occupation City_Category  \\\n",
       "0  1000001  P00069042      F  0-17        10.0             A   \n",
       "1  1000001  P00248942      F  0-17        10.0             A   \n",
       "2  1000001  P00087842      F  0-17        10.0             A   \n",
       "3  1000001  P00085442      F  0-17        10.0             A   \n",
       "4  1000002  P00285442      M   55+        16.0             C   \n",
       "\n",
       "  Stay_In_Current_City_Years  Marital_Status  Product_Category_1  \\\n",
       "0                          2             0.0                 3.0   \n",
       "1                          2             0.0                 1.0   \n",
       "2                          2             0.0                12.0   \n",
       "3                          2             0.0                12.0   \n",
       "4                         4+             0.0                 8.0   \n",
       "\n",
       "   Product_Category_2  Product_Category_3  Purchase  \n",
       "0                 NaN                 NaN    8370.0  \n",
       "1                 6.0                14.0   15200.0  \n",
       "2                 NaN                 NaN    1422.0  \n",
       "3                14.0                 NaN    1057.0  \n",
       "4                 NaN                 NaN    7969.0  "
      ]
     },
     "execution_count": 3,
     "metadata": {},
     "output_type": "execute_result"
    }
   ],
   "source": [
    "train_data.head()"
   ]
  },
  {
   "cell_type": "code",
   "execution_count": 4,
   "id": "e85b5f48",
   "metadata": {},
   "outputs": [
    {
     "data": {
      "text/plain": [
       "((52670, 12), (210289, 11))"
      ]
     },
     "execution_count": 4,
     "metadata": {},
     "output_type": "execute_result"
    }
   ],
   "source": [
    "train_data.shape,test_data.shape"
   ]
  },
  {
   "cell_type": "code",
   "execution_count": 5,
   "id": "9a5ba0c4",
   "metadata": {
    "scrolled": false
   },
   "outputs": [
    {
     "name": "stdout",
     "output_type": "stream",
     "text": [
      "<class 'pandas.core.frame.DataFrame'>\n",
      "RangeIndex: 52670 entries, 0 to 52669\n",
      "Data columns (total 12 columns):\n",
      " #   Column                      Non-Null Count  Dtype  \n",
      "---  ------                      --------------  -----  \n",
      " 0   User_ID                     52670 non-null  int64  \n",
      " 1   Product_ID                  52670 non-null  object \n",
      " 2   Gender                      52669 non-null  object \n",
      " 3   Age                         52669 non-null  object \n",
      " 4   Occupation                  52669 non-null  float64\n",
      " 5   City_Category               52669 non-null  object \n",
      " 6   Stay_In_Current_City_Years  52669 non-null  object \n",
      " 7   Marital_Status              52669 non-null  float64\n",
      " 8   Product_Category_1          52669 non-null  float64\n",
      " 9   Product_Category_2          36121 non-null  float64\n",
      " 10  Product_Category_3          16018 non-null  float64\n",
      " 11  Purchase                    52669 non-null  float64\n",
      "dtypes: float64(6), int64(1), object(5)\n",
      "memory usage: 4.8+ MB\n"
     ]
    }
   ],
   "source": [
    "train_data.info()"
   ]
  },
  {
   "cell_type": "code",
   "execution_count": 6,
   "id": "c24caebb",
   "metadata": {
    "scrolled": true
   },
   "outputs": [
    {
     "data": {
      "text/html": [
       "<div>\n",
       "<style scoped>\n",
       "    .dataframe tbody tr th:only-of-type {\n",
       "        vertical-align: middle;\n",
       "    }\n",
       "\n",
       "    .dataframe tbody tr th {\n",
       "        vertical-align: top;\n",
       "    }\n",
       "\n",
       "    .dataframe thead th {\n",
       "        text-align: right;\n",
       "    }\n",
       "</style>\n",
       "<table border=\"1\" class=\"dataframe\">\n",
       "  <thead>\n",
       "    <tr style=\"text-align: right;\">\n",
       "      <th></th>\n",
       "      <th>User_ID</th>\n",
       "      <th>Product_ID</th>\n",
       "      <th>Gender</th>\n",
       "      <th>Age</th>\n",
       "      <th>Occupation</th>\n",
       "      <th>City_Category</th>\n",
       "      <th>Stay_In_Current_City_Years</th>\n",
       "      <th>Marital_Status</th>\n",
       "      <th>Product_Category_1</th>\n",
       "      <th>Product_Category_2</th>\n",
       "      <th>Product_Category_3</th>\n",
       "      <th>Purchase</th>\n",
       "    </tr>\n",
       "  </thead>\n",
       "  <tbody>\n",
       "    <tr>\n",
       "      <th>52669</th>\n",
       "      <td>1002018</td>\n",
       "      <td>P</td>\n",
       "      <td>NaN</td>\n",
       "      <td>NaN</td>\n",
       "      <td>NaN</td>\n",
       "      <td>NaN</td>\n",
       "      <td>NaN</td>\n",
       "      <td>NaN</td>\n",
       "      <td>NaN</td>\n",
       "      <td>NaN</td>\n",
       "      <td>NaN</td>\n",
       "      <td>NaN</td>\n",
       "    </tr>\n",
       "  </tbody>\n",
       "</table>\n",
       "</div>"
      ],
      "text/plain": [
       "       User_ID Product_ID Gender  Age  Occupation City_Category  \\\n",
       "52669  1002018          P    NaN  NaN         NaN           NaN   \n",
       "\n",
       "      Stay_In_Current_City_Years  Marital_Status  Product_Category_1  \\\n",
       "52669                        NaN             NaN                 NaN   \n",
       "\n",
       "       Product_Category_2  Product_Category_3  Purchase  \n",
       "52669                 NaN                 NaN       NaN  "
      ]
     },
     "execution_count": 6,
     "metadata": {},
     "output_type": "execute_result"
    }
   ],
   "source": [
    "train_data[train_data[\"Gender\"].isna()]"
   ]
  },
  {
   "cell_type": "code",
   "execution_count": 7,
   "id": "4647965d",
   "metadata": {},
   "outputs": [],
   "source": [
    "train_data = train_data.dropna(axis=0, subset=['Gender'])"
   ]
  },
  {
   "cell_type": "code",
   "execution_count": 8,
   "id": "a39eb54b",
   "metadata": {},
   "outputs": [
    {
     "name": "stdout",
     "output_type": "stream",
     "text": [
      "<class 'pandas.core.frame.DataFrame'>\n",
      "Int64Index: 52669 entries, 0 to 52668\n",
      "Data columns (total 12 columns):\n",
      " #   Column                      Non-Null Count  Dtype  \n",
      "---  ------                      --------------  -----  \n",
      " 0   User_ID                     52669 non-null  int64  \n",
      " 1   Product_ID                  52669 non-null  object \n",
      " 2   Gender                      52669 non-null  object \n",
      " 3   Age                         52669 non-null  object \n",
      " 4   Occupation                  52669 non-null  float64\n",
      " 5   City_Category               52669 non-null  object \n",
      " 6   Stay_In_Current_City_Years  52669 non-null  object \n",
      " 7   Marital_Status              52669 non-null  float64\n",
      " 8   Product_Category_1          52669 non-null  float64\n",
      " 9   Product_Category_2          36121 non-null  float64\n",
      " 10  Product_Category_3          16018 non-null  float64\n",
      " 11  Purchase                    52669 non-null  float64\n",
      "dtypes: float64(6), int64(1), object(5)\n",
      "memory usage: 5.2+ MB\n"
     ]
    }
   ],
   "source": [
    "train_data.info()"
   ]
  },
  {
   "cell_type": "code",
   "execution_count": 9,
   "id": "c484d26a",
   "metadata": {
    "scrolled": true
   },
   "outputs": [
    {
     "name": "stdout",
     "output_type": "stream",
     "text": [
      "<class 'pandas.core.frame.DataFrame'>\n",
      "RangeIndex: 210289 entries, 0 to 210288\n",
      "Data columns (total 11 columns):\n",
      " #   Column                      Non-Null Count   Dtype  \n",
      "---  ------                      --------------   -----  \n",
      " 0   User_ID                     210289 non-null  int64  \n",
      " 1   Product_ID                  210289 non-null  object \n",
      " 2   Gender                      210289 non-null  object \n",
      " 3   Age                         210289 non-null  object \n",
      " 4   Occupation                  210289 non-null  int64  \n",
      " 5   City_Category               210289 non-null  object \n",
      " 6   Stay_In_Current_City_Years  210289 non-null  object \n",
      " 7   Marital_Status              210289 non-null  int64  \n",
      " 8   Product_Category_1          210289 non-null  int64  \n",
      " 9   Product_Category_2          145136 non-null  float64\n",
      " 10  Product_Category_3          63883 non-null   float64\n",
      "dtypes: float64(2), int64(4), object(5)\n",
      "memory usage: 17.6+ MB\n"
     ]
    }
   ],
   "source": [
    "test_data.info()"
   ]
  },
  {
   "cell_type": "code",
   "execution_count": 10,
   "id": "644c4280",
   "metadata": {
    "scrolled": true
   },
   "outputs": [
    {
     "data": {
      "text/html": [
       "<div>\n",
       "<style scoped>\n",
       "    .dataframe tbody tr th:only-of-type {\n",
       "        vertical-align: middle;\n",
       "    }\n",
       "\n",
       "    .dataframe tbody tr th {\n",
       "        vertical-align: top;\n",
       "    }\n",
       "\n",
       "    .dataframe thead th {\n",
       "        text-align: right;\n",
       "    }\n",
       "</style>\n",
       "<table border=\"1\" class=\"dataframe\">\n",
       "  <thead>\n",
       "    <tr style=\"text-align: right;\">\n",
       "      <th></th>\n",
       "      <th>count</th>\n",
       "      <th>mean</th>\n",
       "      <th>std</th>\n",
       "      <th>min</th>\n",
       "      <th>25%</th>\n",
       "      <th>50%</th>\n",
       "      <th>75%</th>\n",
       "      <th>max</th>\n",
       "    </tr>\n",
       "  </thead>\n",
       "  <tbody>\n",
       "    <tr>\n",
       "      <th>User_ID</th>\n",
       "      <td>52669.0</td>\n",
       "      <td>1.002517e+06</td>\n",
       "      <td>1749.021759</td>\n",
       "      <td>1000001.0</td>\n",
       "      <td>1001063.0</td>\n",
       "      <td>1001974.0</td>\n",
       "      <td>1003998.0</td>\n",
       "      <td>1006040.0</td>\n",
       "    </tr>\n",
       "    <tr>\n",
       "      <th>Occupation</th>\n",
       "      <td>52669.0</td>\n",
       "      <td>8.126374e+00</td>\n",
       "      <td>6.586285</td>\n",
       "      <td>0.0</td>\n",
       "      <td>2.0</td>\n",
       "      <td>7.0</td>\n",
       "      <td>14.0</td>\n",
       "      <td>20.0</td>\n",
       "    </tr>\n",
       "    <tr>\n",
       "      <th>Marital_Status</th>\n",
       "      <td>52669.0</td>\n",
       "      <td>4.085135e-01</td>\n",
       "      <td>0.491564</td>\n",
       "      <td>0.0</td>\n",
       "      <td>0.0</td>\n",
       "      <td>0.0</td>\n",
       "      <td>1.0</td>\n",
       "      <td>1.0</td>\n",
       "    </tr>\n",
       "    <tr>\n",
       "      <th>Product_Category_1</th>\n",
       "      <td>52669.0</td>\n",
       "      <td>5.306423e+00</td>\n",
       "      <td>3.719144</td>\n",
       "      <td>1.0</td>\n",
       "      <td>1.0</td>\n",
       "      <td>5.0</td>\n",
       "      <td>8.0</td>\n",
       "      <td>18.0</td>\n",
       "    </tr>\n",
       "    <tr>\n",
       "      <th>Product_Category_2</th>\n",
       "      <td>36121.0</td>\n",
       "      <td>9.864096e+00</td>\n",
       "      <td>5.067747</td>\n",
       "      <td>2.0</td>\n",
       "      <td>5.0</td>\n",
       "      <td>9.0</td>\n",
       "      <td>15.0</td>\n",
       "      <td>18.0</td>\n",
       "    </tr>\n",
       "    <tr>\n",
       "      <th>Product_Category_3</th>\n",
       "      <td>16018.0</td>\n",
       "      <td>1.271201e+01</td>\n",
       "      <td>4.118026</td>\n",
       "      <td>3.0</td>\n",
       "      <td>9.0</td>\n",
       "      <td>14.0</td>\n",
       "      <td>16.0</td>\n",
       "      <td>18.0</td>\n",
       "    </tr>\n",
       "    <tr>\n",
       "      <th>Purchase</th>\n",
       "      <td>52669.0</td>\n",
       "      <td>9.275554e+03</td>\n",
       "      <td>4949.778493</td>\n",
       "      <td>185.0</td>\n",
       "      <td>5854.0</td>\n",
       "      <td>8044.0</td>\n",
       "      <td>12029.0</td>\n",
       "      <td>23958.0</td>\n",
       "    </tr>\n",
       "  </tbody>\n",
       "</table>\n",
       "</div>"
      ],
      "text/plain": [
       "                      count          mean          std        min        25%  \\\n",
       "User_ID             52669.0  1.002517e+06  1749.021759  1000001.0  1001063.0   \n",
       "Occupation          52669.0  8.126374e+00     6.586285        0.0        2.0   \n",
       "Marital_Status      52669.0  4.085135e-01     0.491564        0.0        0.0   \n",
       "Product_Category_1  52669.0  5.306423e+00     3.719144        1.0        1.0   \n",
       "Product_Category_2  36121.0  9.864096e+00     5.067747        2.0        5.0   \n",
       "Product_Category_3  16018.0  1.271201e+01     4.118026        3.0        9.0   \n",
       "Purchase            52669.0  9.275554e+03  4949.778493      185.0     5854.0   \n",
       "\n",
       "                          50%        75%        max  \n",
       "User_ID             1001974.0  1003998.0  1006040.0  \n",
       "Occupation                7.0       14.0       20.0  \n",
       "Marital_Status            0.0        1.0        1.0  \n",
       "Product_Category_1        5.0        8.0       18.0  \n",
       "Product_Category_2        9.0       15.0       18.0  \n",
       "Product_Category_3       14.0       16.0       18.0  \n",
       "Purchase               8044.0    12029.0    23958.0  "
      ]
     },
     "execution_count": 10,
     "metadata": {},
     "output_type": "execute_result"
    }
   ],
   "source": [
    "train_data.describe().T"
   ]
  },
  {
   "cell_type": "code",
   "execution_count": 11,
   "id": "4f6976e1",
   "metadata": {
    "scrolled": true
   },
   "outputs": [
    {
     "data": {
      "text/plain": [
       "0"
      ]
     },
     "execution_count": 11,
     "metadata": {},
     "output_type": "execute_result"
    }
   ],
   "source": [
    "train_data.duplicated().sum()"
   ]
  },
  {
   "cell_type": "code",
   "execution_count": 12,
   "id": "73ca8d29",
   "metadata": {},
   "outputs": [
    {
     "data": {
      "text/plain": [
       "0"
      ]
     },
     "execution_count": 12,
     "metadata": {},
     "output_type": "execute_result"
    }
   ],
   "source": [
    "test_data.duplicated().sum()"
   ]
  },
  {
   "cell_type": "code",
   "execution_count": 13,
   "id": "d30f9fe6",
   "metadata": {
    "scrolled": false
   },
   "outputs": [
    {
     "data": {
      "text/plain": [
       "26-35    20722\n",
       "36-45    10451\n",
       "18-25    10172\n",
       "46-50     4165\n",
       "51-55     3698\n",
       "55+       1978\n",
       "0-17      1483\n",
       "Name: Age, dtype: int64"
      ]
     },
     "execution_count": 13,
     "metadata": {},
     "output_type": "execute_result"
    }
   ],
   "source": [
    "train_data.Age.value_counts()"
   ]
  },
  {
   "cell_type": "code",
   "execution_count": 14,
   "id": "c487db25",
   "metadata": {},
   "outputs": [
    {
     "data": {
      "text/plain": [
       "<AxesSubplot:>"
      ]
     },
     "execution_count": 14,
     "metadata": {},
     "output_type": "execute_result"
    },
    {
     "data": {
      "image/png": "[encoded data removed]",
      "text/plain": [
       "<Figure size 432x288 with 2 Axes>"
      ]
     },
     "metadata": {
      "needs_background": "light"
     },
     "output_type": "display_data"
    }
   ],
   "source": [
    "sns.heatmap(train_data.corr(),annot=True)"
   ]
  },
  {
   "cell_type": "code",
   "execution_count": 15,
   "id": "219c0712",
   "metadata": {},
   "outputs": [
    {
     "data": {
      "image/png": "[encoded data removed]",
      "text/plain": [
       "<Figure size 432x288 with 1 Axes>"
      ]
     },
     "metadata": {
      "needs_background": "light"
     },
     "output_type": "display_data"
    }
   ],
   "source": [
    "\n",
    "plt.hist(train_data['Purchase'])\n",
    "plt.show()"
   ]
  },
  {
   "cell_type": "code",
   "execution_count": 16,
   "id": "73c999e0",
   "metadata": {},
   "outputs": [],
   "source": [
    "train_data[\"data\"]=\"train\"\n",
    "test_data[\"data\"]=\"test\""
   ]
  },
  {
   "cell_type": "code",
   "execution_count": 17,
   "id": "16a5611c",
   "metadata": {},
   "outputs": [
    {
     "data": {
      "text/html": [
       "<div>\n",
       "<style scoped>\n",
       "    .dataframe tbody tr th:only-of-type {\n",
       "        vertical-align: middle;\n",
       "    }\n",
       "\n",
       "    .dataframe tbody tr th {\n",
       "        vertical-align: top;\n",
       "    }\n",
       "\n",
       "    .dataframe thead th {\n",
       "        text-align: right;\n",
       "    }\n",
       "</style>\n",
       "<table border=\"1\" class=\"dataframe\">\n",
       "  <thead>\n",
       "    <tr style=\"text-align: right;\">\n",
       "      <th></th>\n",
       "      <th>User_ID</th>\n",
       "      <th>Product_ID</th>\n",
       "      <th>Gender</th>\n",
       "      <th>Age</th>\n",
       "      <th>Occupation</th>\n",
       "      <th>City_Category</th>\n",
       "      <th>Stay_In_Current_City_Years</th>\n",
       "      <th>Marital_Status</th>\n",
       "      <th>Product_Category_1</th>\n",
       "      <th>Product_Category_2</th>\n",
       "      <th>Product_Category_3</th>\n",
       "      <th>Purchase</th>\n",
       "      <th>data</th>\n",
       "    </tr>\n",
       "  </thead>\n",
       "  <tbody>\n",
       "    <tr>\n",
       "      <th>0</th>\n",
       "      <td>1000001</td>\n",
       "      <td>P00069042</td>\n",
       "      <td>F</td>\n",
       "      <td>0-17</td>\n",
       "      <td>10.0</td>\n",
       "      <td>A</td>\n",
       "      <td>2</td>\n",
       "      <td>0.0</td>\n",
       "      <td>3.0</td>\n",
       "      <td>NaN</td>\n",
       "      <td>NaN</td>\n",
       "      <td>8370.0</td>\n",
       "      <td>train</td>\n",
       "    </tr>\n",
       "    <tr>\n",
       "      <th>1</th>\n",
       "      <td>1000001</td>\n",
       "      <td>P00248942</td>\n",
       "      <td>F</td>\n",
       "      <td>0-17</td>\n",
       "      <td>10.0</td>\n",
       "      <td>A</td>\n",
       "      <td>2</td>\n",
       "      <td>0.0</td>\n",
       "      <td>1.0</td>\n",
       "      <td>6.0</td>\n",
       "      <td>14.0</td>\n",
       "      <td>15200.0</td>\n",
       "      <td>train</td>\n",
       "    </tr>\n",
       "    <tr>\n",
       "      <th>2</th>\n",
       "      <td>1000001</td>\n",
       "      <td>P00087842</td>\n",
       "      <td>F</td>\n",
       "      <td>0-17</td>\n",
       "      <td>10.0</td>\n",
       "      <td>A</td>\n",
       "      <td>2</td>\n",
       "      <td>0.0</td>\n",
       "      <td>12.0</td>\n",
       "      <td>NaN</td>\n",
       "      <td>NaN</td>\n",
       "      <td>1422.0</td>\n",
       "      <td>train</td>\n",
       "    </tr>\n",
       "    <tr>\n",
       "      <th>3</th>\n",
       "      <td>1000001</td>\n",
       "      <td>P00085442</td>\n",
       "      <td>F</td>\n",
       "      <td>0-17</td>\n",
       "      <td>10.0</td>\n",
       "      <td>A</td>\n",
       "      <td>2</td>\n",
       "      <td>0.0</td>\n",
       "      <td>12.0</td>\n",
       "      <td>14.0</td>\n",
       "      <td>NaN</td>\n",
       "      <td>1057.0</td>\n",
       "      <td>train</td>\n",
       "    </tr>\n",
       "    <tr>\n",
       "      <th>4</th>\n",
       "      <td>1000002</td>\n",
       "      <td>P00285442</td>\n",
       "      <td>M</td>\n",
       "      <td>55+</td>\n",
       "      <td>16.0</td>\n",
       "      <td>C</td>\n",
       "      <td>4+</td>\n",
       "      <td>0.0</td>\n",
       "      <td>8.0</td>\n",
       "      <td>NaN</td>\n",
       "      <td>NaN</td>\n",
       "      <td>7969.0</td>\n",
       "      <td>train</td>\n",
       "    </tr>\n",
       "    <tr>\n",
       "      <th>...</th>\n",
       "      <td>...</td>\n",
       "      <td>...</td>\n",
       "      <td>...</td>\n",
       "      <td>...</td>\n",
       "      <td>...</td>\n",
       "      <td>...</td>\n",
       "      <td>...</td>\n",
       "      <td>...</td>\n",
       "      <td>...</td>\n",
       "      <td>...</td>\n",
       "      <td>...</td>\n",
       "      <td>...</td>\n",
       "      <td>...</td>\n",
       "    </tr>\n",
       "    <tr>\n",
       "      <th>262953</th>\n",
       "      <td>1000294</td>\n",
       "      <td>P00303042</td>\n",
       "      <td>F</td>\n",
       "      <td>46-50</td>\n",
       "      <td>9.0</td>\n",
       "      <td>C</td>\n",
       "      <td>3</td>\n",
       "      <td>1.0</td>\n",
       "      <td>5.0</td>\n",
       "      <td>NaN</td>\n",
       "      <td>NaN</td>\n",
       "      <td>NaN</td>\n",
       "      <td>test</td>\n",
       "    </tr>\n",
       "    <tr>\n",
       "      <th>262954</th>\n",
       "      <td>1000294</td>\n",
       "      <td>P0099042</td>\n",
       "      <td>F</td>\n",
       "      <td>46-50</td>\n",
       "      <td>9.0</td>\n",
       "      <td>C</td>\n",
       "      <td>3</td>\n",
       "      <td>1.0</td>\n",
       "      <td>5.0</td>\n",
       "      <td>12.0</td>\n",
       "      <td>14.0</td>\n",
       "      <td>NaN</td>\n",
       "      <td>test</td>\n",
       "    </tr>\n",
       "    <tr>\n",
       "      <th>262955</th>\n",
       "      <td>1000295</td>\n",
       "      <td>P00147942</td>\n",
       "      <td>M</td>\n",
       "      <td>18-25</td>\n",
       "      <td>0.0</td>\n",
       "      <td>C</td>\n",
       "      <td>4+</td>\n",
       "      <td>0.0</td>\n",
       "      <td>1.0</td>\n",
       "      <td>16.0</td>\n",
       "      <td>NaN</td>\n",
       "      <td>NaN</td>\n",
       "      <td>test</td>\n",
       "    </tr>\n",
       "    <tr>\n",
       "      <th>262956</th>\n",
       "      <td>1000296</td>\n",
       "      <td>P00070342</td>\n",
       "      <td>M</td>\n",
       "      <td>51-55</td>\n",
       "      <td>5.0</td>\n",
       "      <td>C</td>\n",
       "      <td>4+</td>\n",
       "      <td>1.0</td>\n",
       "      <td>1.0</td>\n",
       "      <td>2.0</td>\n",
       "      <td>14.0</td>\n",
       "      <td>NaN</td>\n",
       "      <td>test</td>\n",
       "    </tr>\n",
       "    <tr>\n",
       "      <th>262957</th>\n",
       "      <td>1000299</td>\n",
       "      <td>P00059442</td>\n",
       "      <td>M</td>\n",
       "      <td>26-35</td>\n",
       "      <td>12.0</td>\n",
       "      <td>C</td>\n",
       "      <td>4+</td>\n",
       "      <td>0.0</td>\n",
       "      <td>6.0</td>\n",
       "      <td>8.0</td>\n",
       "      <td>16.0</td>\n",
       "      <td>NaN</td>\n",
       "      <td>test</td>\n",
       "    </tr>\n",
       "  </tbody>\n",
       "</table>\n",
       "<p>262958 rows × 13 columns</p>\n",
       "</div>"
      ],
      "text/plain": [
       "        User_ID Product_ID Gender    Age  Occupation City_Category  \\\n",
       "0       1000001  P00069042      F   0-17        10.0             A   \n",
       "1       1000001  P00248942      F   0-17        10.0             A   \n",
       "2       1000001  P00087842      F   0-17        10.0             A   \n",
       "3       1000001  P00085442      F   0-17        10.0             A   \n",
       "4       1000002  P00285442      M    55+        16.0             C   \n",
       "...         ...        ...    ...    ...         ...           ...   \n",
       "262953  1000294  P00303042      F  46-50         9.0             C   \n",
       "262954  1000294   P0099042      F  46-50         9.0             C   \n",
       "262955  1000295  P00147942      M  18-25         0.0             C   \n",
       "262956  1000296  P00070342      M  51-55         5.0             C   \n",
       "262957  1000299  P00059442      M  26-35        12.0             C   \n",
       "\n",
       "       Stay_In_Current_City_Years  Marital_Status  Product_Category_1  \\\n",
       "0                               2             0.0                 3.0   \n",
       "1                               2             0.0                 1.0   \n",
       "2                               2             0.0                12.0   \n",
       "3                               2             0.0                12.0   \n",
       "4                              4+             0.0                 8.0   \n",
       "...                           ...             ...                 ...   \n",
       "262953                          3             1.0                 5.0   \n",
       "262954                          3             1.0                 5.0   \n",
       "262955                         4+             0.0                 1.0   \n",
       "262956                         4+             1.0                 1.0   \n",
       "262957                         4+             0.0                 6.0   \n",
       "\n",
       "        Product_Category_2  Product_Category_3  Purchase   data  \n",
       "0                      NaN                 NaN    8370.0  train  \n",
       "1                      6.0                14.0   15200.0  train  \n",
       "2                      NaN                 NaN    1422.0  train  \n",
       "3                     14.0                 NaN    1057.0  train  \n",
       "4                      NaN                 NaN    7969.0  train  \n",
       "...                    ...                 ...       ...    ...  \n",
       "262953                 NaN                 NaN       NaN   test  \n",
       "262954                12.0                14.0       NaN   test  \n",
       "262955                16.0                 NaN       NaN   test  \n",
       "262956                 2.0                14.0       NaN   test  \n",
       "262957                 8.0                16.0       NaN   test  \n",
       "\n",
       "[262958 rows x 13 columns]"
      ]
     },
     "execution_count": 17,
     "metadata": {},
     "output_type": "execute_result"
    }
   ],
   "source": [
    "all_data=pd.concat([train_data,test_data])\n",
    "all_data = all_data.reset_index().drop(columns=\"index\")\n",
    "all_data"
   ]
  },
  {
   "cell_type": "code",
   "execution_count": 18,
   "id": "daa3ded0",
   "metadata": {},
   "outputs": [],
   "source": [
    "columns =all_data.columns"
   ]
  },
  {
   "cell_type": "code",
   "execution_count": 19,
   "id": "306ab9b1",
   "metadata": {},
   "outputs": [
    {
     "name": "stdout",
     "output_type": "stream",
     "text": [
      "1001680    534\n",
      "1001941    487\n",
      "1000889    479\n",
      "1001181    470\n",
      "1004277    453\n",
      "          ... \n",
      "1004775      2\n",
      "1005309      2\n",
      "1004332      2\n",
      "1005207      2\n",
      "1005796      1\n",
      "Name: User_ID, Length: 5891, dtype: int64\n",
      "P00265242    920\n",
      "P00112142    815\n",
      "P00025442    796\n",
      "P00110742    742\n",
      "P00184942    706\n",
      "            ... \n",
      "P00262642      1\n",
      "P00056942      1\n",
      "P00206242      1\n",
      "P00306342      1\n",
      "P0093842       1\n",
      "Name: Product_ID, Length: 3504, dtype: int64\n",
      "M    198021\n",
      "F     64937\n",
      "Name: Gender, dtype: int64\n",
      "26-35    104813\n",
      "36-45     52478\n",
      "18-25     48263\n",
      "46-50     21778\n",
      "51-55     18344\n",
      "55+       10149\n",
      "0-17       7133\n",
      "Name: Age, dtype: int64\n",
      "4.0     34666\n",
      "0.0     33047\n",
      "7.0     27972\n",
      "1.0     22682\n",
      "17.0    19453\n",
      "20.0    16291\n",
      "12.0    14797\n",
      "14.0    12838\n",
      "2.0     12833\n",
      "16.0    12080\n",
      "6.0      9700\n",
      "3.0      8623\n",
      "10.0     6192\n",
      "15.0     5804\n",
      "11.0     5675\n",
      "5.0      5674\n",
      "19.0     4003\n",
      "13.0     3776\n",
      "18.0     3110\n",
      "9.0      2994\n",
      "8.0       748\n",
      "Name: Occupation, dtype: int64\n",
      "B    110841\n",
      "C     81312\n",
      "A     70805\n",
      "Name: City_Category, dtype: int64\n",
      "1     92867\n",
      "2     48729\n",
      "3     45259\n",
      "4+    40652\n",
      "0     35451\n",
      "Name: Stay_In_Current_City_Years, dtype: int64\n",
      "0.0    155229\n",
      "1.0    107729\n",
      "Name: Marital_Status, dtype: int64\n",
      "5.0     73343\n",
      "1.0     67529\n",
      "8.0     54796\n",
      "11.0    11573\n",
      "2.0     11436\n",
      "6.0      9880\n",
      "3.0      9646\n",
      "4.0      5589\n",
      "16.0     4593\n",
      "15.0     3036\n",
      "13.0     2654\n",
      "10.0     2505\n",
      "12.0     1874\n",
      "7.0      1817\n",
      "18.0     1465\n",
      "14.0      750\n",
      "17.0      259\n",
      "9.0       213\n",
      "Name: Product_Category_1, dtype: int64\n",
      "8.0     30654\n",
      "14.0    26797\n",
      "2.0     23768\n",
      "16.0    20691\n",
      "15.0    18169\n",
      "4.0     12349\n",
      "5.0     12344\n",
      "6.0      8036\n",
      "11.0     6837\n",
      "17.0     6516\n",
      "13.0     5084\n",
      "9.0      2793\n",
      "12.0     2641\n",
      "10.0     1528\n",
      "18.0     1400\n",
      "3.0      1389\n",
      "7.0       261\n",
      "Name: Product_Category_2, dtype: int64\n",
      "16.0    15586\n",
      "15.0    13417\n",
      "14.0     8895\n",
      "17.0     8073\n",
      "5.0      7986\n",
      "8.0      5890\n",
      "9.0      5562\n",
      "12.0     4428\n",
      "13.0     2660\n",
      "6.0      2251\n",
      "18.0     2212\n",
      "4.0       919\n",
      "11.0      882\n",
      "10.0      843\n",
      "3.0       297\n",
      "Name: Product_Category_3, dtype: int64\n",
      "7089.0     30\n",
      "7075.0     29\n",
      "8021.0     27\n",
      "7093.0     26\n",
      "7989.0     26\n",
      "           ..\n",
      "3305.0      1\n",
      "13009.0     1\n",
      "7482.0      1\n",
      "23671.0     1\n",
      "23182.0     1\n",
      "Name: Purchase, Length: 11931, dtype: int64\n",
      "test     210289\n",
      "train     52669\n",
      "Name: data, dtype: int64\n"
     ]
    },
    {
     "data": {
      "text/plain": [
       "User_ID                       None\n",
       "Product_ID                    None\n",
       "Gender                        None\n",
       "Age                           None\n",
       "Occupation                    None\n",
       "City_Category                 None\n",
       "Stay_In_Current_City_Years    None\n",
       "Marital_Status                None\n",
       "Product_Category_1            None\n",
       "Product_Category_2            None\n",
       "Product_Category_3            None\n",
       "Purchase                      None\n",
       "data                          None\n",
       "dtype: object"
      ]
     },
     "execution_count": 19,
     "metadata": {},
     "output_type": "execute_result"
    }
   ],
   "source": [
    "all_data[columns].apply(lambda x: print(x.value_counts()))"
   ]
  },
  {
   "cell_type": "code",
   "execution_count": 20,
   "id": "a79b2380",
   "metadata": {
    "scrolled": true
   },
   "outputs": [
    {
     "data": {
      "text/plain": [
       "User_ID                        5891\n",
       "Product_ID                     3504\n",
       "Gender                            2\n",
       "Age                               7\n",
       "Occupation                       21\n",
       "City_Category                     3\n",
       "Stay_In_Current_City_Years        5\n",
       "Marital_Status                    2\n",
       "Product_Category_1               18\n",
       "Product_Category_2               17\n",
       "Product_Category_3               15\n",
       "Purchase                      11931\n",
       "data                              2\n",
       "dtype: int64"
      ]
     },
     "execution_count": 20,
     "metadata": {},
     "output_type": "execute_result"
    }
   ],
   "source": [
    "all_data[columns].apply(lambda x: x.nunique())"
   ]
  },
  {
   "cell_type": "code",
   "execution_count": 21,
   "id": "5715ee19",
   "metadata": {
    "scrolled": false
   },
   "outputs": [
    {
     "data": {
      "text/html": [
       "<div>\n",
       "<style scoped>\n",
       "    .dataframe tbody tr th:only-of-type {\n",
       "        vertical-align: middle;\n",
       "    }\n",
       "\n",
       "    .dataframe tbody tr th {\n",
       "        vertical-align: top;\n",
       "    }\n",
       "\n",
       "    .dataframe thead th {\n",
       "        text-align: right;\n",
       "    }\n",
       "</style>\n",
       "<table border=\"1\" class=\"dataframe\">\n",
       "  <thead>\n",
       "    <tr style=\"text-align: right;\">\n",
       "      <th></th>\n",
       "      <th>count</th>\n",
       "      <th>mean</th>\n",
       "      <th>std</th>\n",
       "      <th>min</th>\n",
       "      <th>25%</th>\n",
       "      <th>50%</th>\n",
       "      <th>75%</th>\n",
       "      <th>max</th>\n",
       "    </tr>\n",
       "  </thead>\n",
       "  <tbody>\n",
       "    <tr>\n",
       "      <th>User_ID</th>\n",
       "      <td>262958.0</td>\n",
       "      <td>1.002925e+06</td>\n",
       "      <td>1743.933550</td>\n",
       "      <td>1000001.0</td>\n",
       "      <td>1001385.0</td>\n",
       "      <td>1002909.0</td>\n",
       "      <td>1004404.0</td>\n",
       "      <td>1006040.0</td>\n",
       "    </tr>\n",
       "    <tr>\n",
       "      <th>Occupation</th>\n",
       "      <td>262958.0</td>\n",
       "      <td>8.091832e+00</td>\n",
       "      <td>6.532380</td>\n",
       "      <td>0.0</td>\n",
       "      <td>2.0</td>\n",
       "      <td>7.0</td>\n",
       "      <td>14.0</td>\n",
       "      <td>20.0</td>\n",
       "    </tr>\n",
       "    <tr>\n",
       "      <th>Marital_Status</th>\n",
       "      <td>262958.0</td>\n",
       "      <td>4.096814e-01</td>\n",
       "      <td>0.491776</td>\n",
       "      <td>0.0</td>\n",
       "      <td>0.0</td>\n",
       "      <td>0.0</td>\n",
       "      <td>1.0</td>\n",
       "      <td>1.0</td>\n",
       "    </tr>\n",
       "    <tr>\n",
       "      <th>Product_Category_1</th>\n",
       "      <td>262958.0</td>\n",
       "      <td>5.287301e+00</td>\n",
       "      <td>3.733567</td>\n",
       "      <td>1.0</td>\n",
       "      <td>1.0</td>\n",
       "      <td>5.0</td>\n",
       "      <td>8.0</td>\n",
       "      <td>18.0</td>\n",
       "    </tr>\n",
       "    <tr>\n",
       "      <th>Product_Category_2</th>\n",
       "      <td>181257.0</td>\n",
       "      <td>9.854643e+00</td>\n",
       "      <td>5.089337</td>\n",
       "      <td>2.0</td>\n",
       "      <td>5.0</td>\n",
       "      <td>9.0</td>\n",
       "      <td>15.0</td>\n",
       "      <td>18.0</td>\n",
       "    </tr>\n",
       "    <tr>\n",
       "      <th>Product_Category_3</th>\n",
       "      <td>79901.0</td>\n",
       "      <td>1.268128e+01</td>\n",
       "      <td>4.120396</td>\n",
       "      <td>3.0</td>\n",
       "      <td>9.0</td>\n",
       "      <td>14.0</td>\n",
       "      <td>16.0</td>\n",
       "      <td>18.0</td>\n",
       "    </tr>\n",
       "    <tr>\n",
       "      <th>Purchase</th>\n",
       "      <td>52669.0</td>\n",
       "      <td>9.275554e+03</td>\n",
       "      <td>4949.778493</td>\n",
       "      <td>185.0</td>\n",
       "      <td>5854.0</td>\n",
       "      <td>8044.0</td>\n",
       "      <td>12029.0</td>\n",
       "      <td>23958.0</td>\n",
       "    </tr>\n",
       "  </tbody>\n",
       "</table>\n",
       "</div>"
      ],
      "text/plain": [
       "                       count          mean          std        min        25%  \\\n",
       "User_ID             262958.0  1.002925e+06  1743.933550  1000001.0  1001385.0   \n",
       "Occupation          262958.0  8.091832e+00     6.532380        0.0        2.0   \n",
       "Marital_Status      262958.0  4.096814e-01     0.491776        0.0        0.0   \n",
       "Product_Category_1  262958.0  5.287301e+00     3.733567        1.0        1.0   \n",
       "Product_Category_2  181257.0  9.854643e+00     5.089337        2.0        5.0   \n",
       "Product_Category_3   79901.0  1.268128e+01     4.120396        3.0        9.0   \n",
       "Purchase             52669.0  9.275554e+03  4949.778493      185.0     5854.0   \n",
       "\n",
       "                          50%        75%        max  \n",
       "User_ID             1002909.0  1004404.0  1006040.0  \n",
       "Occupation                7.0       14.0       20.0  \n",
       "Marital_Status            0.0        1.0        1.0  \n",
       "Product_Category_1        5.0        8.0       18.0  \n",
       "Product_Category_2        9.0       15.0       18.0  \n",
       "Product_Category_3       14.0       16.0       18.0  \n",
       "Purchase               8044.0    12029.0    23958.0  "
      ]
     },
     "execution_count": 21,
     "metadata": {},
     "output_type": "execute_result"
    }
   ],
   "source": [
    "\n",
    "all_data.describe().T"
   ]
  },
  {
   "cell_type": "code",
   "execution_count": 22,
   "id": "653f2f8c",
   "metadata": {
    "scrolled": true
   },
   "outputs": [
    {
     "data": {
      "text/plain": [
       "<AxesSubplot:>"
      ]
     },
     "execution_count": 22,
     "metadata": {},
     "output_type": "execute_result"
    },
    {
     "data": {
      "image/png": "[encoded data removed]",
      "text/plain": [
       "<Figure size 432x288 with 2 Axes>"
      ]
     },
     "metadata": {
      "needs_background": "light"
     },
     "output_type": "display_data"
    }
   ],
   "source": [
    "sns.heatmap(all_data.corr(),annot=True)"
   ]
  },
  {
   "cell_type": "code",
   "execution_count": 23,
   "id": "fd3139a4",
   "metadata": {},
   "outputs": [],
   "source": [
    "all_data[\"Product_Category_2\"] = all_data.Product_Category_2.transform(lambda x: x.fillna(-1))\n",
    "all_data[\"Product_Category_3\"] = all_data.Product_Category_3.transform(lambda x: x.fillna(-1))"
   ]
  },
  {
   "cell_type": "code",
   "execution_count": 24,
   "id": "03b7f792",
   "metadata": {},
   "outputs": [],
   "source": [
    " all_data.loc[all_data['Stay_In_Current_City_Years'] == '4+', 'Stay_In_Current_City_Years'] = 4\n",
    "all_data[all_data['Stay_In_Current_City_Years']=='4+']\n",
    "all_data['Stay_In_Current_City_Years'] = all_data['Stay_In_Current_City_Years'].astype(float)"
   ]
  },
  {
   "cell_type": "code",
   "execution_count": 25,
   "id": "59619154",
   "metadata": {},
   "outputs": [],
   "source": [
    "all_data[\"Occupation\"]=all_data.Occupation.astype(str)\n",
    "all_data[\"Marital_Status\"]=all_data.Marital_Status.astype(str)"
   ]
  },
  {
   "cell_type": "code",
   "execution_count": null,
   "id": "fca54b5f",
   "metadata": {},
   "outputs": [],
   "source": []
  },
  {
   "cell_type": "code",
   "execution_count": 26,
   "id": "0164ffb2",
   "metadata": {},
   "outputs": [],
   "source": [
    "Product_ID_cnt=all_data[\"Product_ID\"].value_counts()"
   ]
  },
  {
   "cell_type": "code",
   "execution_count": 27,
   "id": "3ae45dd1",
   "metadata": {},
   "outputs": [],
   "source": [
    "\n",
    "all_data[\"Product_ID\"]= all_data[\"Product_ID\"].apply(lambda x : x.strip())"
   ]
  },
  {
   "cell_type": "code",
   "execution_count": 28,
   "id": "9b498aa3",
   "metadata": {
    "scrolled": true
   },
   "outputs": [
    {
     "data": {
      "text/plain": [
       "P00265242    920\n",
       "P00112142    815\n",
       "P00025442    796\n",
       "P00110742    742\n",
       "P00184942    706\n",
       "            ... \n",
       "P00262642      1\n",
       "P00056942      1\n",
       "P00206242      1\n",
       "P00306342      1\n",
       "P0093842       1\n",
       "Name: Product_ID, Length: 3504, dtype: int64"
      ]
     },
     "execution_count": 28,
     "metadata": {},
     "output_type": "execute_result"
    }
   ],
   "source": [
    "all_data[\"Product_ID\"].value_counts()"
   ]
  },
  {
   "cell_type": "code",
   "execution_count": 29,
   "id": "691517fe",
   "metadata": {
    "scrolled": true
   },
   "outputs": [
    {
     "data": {
      "text/plain": [
       "P00302742    100\n",
       "P00010342    100\n",
       "P00337642    100\n",
       "P00155242    100\n",
       "P00294142    100\n",
       "            ... \n",
       "P00262642      1\n",
       "P00056942      1\n",
       "P00206242      1\n",
       "P00306342      1\n",
       "P0093842       1\n",
       "Name: Product_ID, Length: 2666, dtype: int64"
      ]
     },
     "execution_count": 29,
     "metadata": {},
     "output_type": "execute_result"
    }
   ],
   "source": [
    "Product_ID_cnt_less_than_100=  Product_ID_cnt[Product_ID_cnt<=100]\n",
    "Product_ID_cnt_less_than_100"
   ]
  },
  {
   "cell_type": "code",
   "execution_count": 30,
   "id": "52242534",
   "metadata": {},
   "outputs": [],
   "source": [
    "all_data[\"Product_ID_encoded\"]=all_data[\"Product_ID\"].apply(lambda x : 'other' if x in Product_ID_cnt_less_than_100 else x )"
   ]
  },
  {
   "cell_type": "code",
   "execution_count": 31,
   "id": "503e2690",
   "metadata": {
    "scrolled": false
   },
   "outputs": [
    {
     "name": "stdout",
     "output_type": "stream",
     "text": [
      "<class 'pandas.core.frame.DataFrame'>\n",
      "RangeIndex: 262958 entries, 0 to 262957\n",
      "Data columns (total 14 columns):\n",
      " #   Column                      Non-Null Count   Dtype  \n",
      "---  ------                      --------------   -----  \n",
      " 0   User_ID                     262958 non-null  int64  \n",
      " 1   Product_ID                  262958 non-null  object \n",
      " 2   Gender                      262958 non-null  object \n",
      " 3   Age                         262958 non-null  object \n",
      " 4   Occupation                  262958 non-null  object \n",
      " 5   City_Category               262958 non-null  object \n",
      " 6   Stay_In_Current_City_Years  262958 non-null  float64\n",
      " 7   Marital_Status              262958 non-null  object \n",
      " 8   Product_Category_1          262958 non-null  float64\n",
      " 9   Product_Category_2          262958 non-null  float64\n",
      " 10  Product_Category_3          262958 non-null  float64\n",
      " 11  Purchase                    52669 non-null   float64\n",
      " 12  data                        262958 non-null  object \n",
      " 13  Product_ID_encoded          262958 non-null  object \n",
      "dtypes: float64(5), int64(1), object(8)\n",
      "memory usage: 28.1+ MB\n"
     ]
    }
   ],
   "source": [
    "all_data.info()"
   ]
  },
  {
   "cell_type": "code",
   "execution_count": 32,
   "id": "04362960",
   "metadata": {},
   "outputs": [],
   "source": [
    "all_data = all_data.reset_index().drop(columns=\"index\")"
   ]
  },
  {
   "cell_type": "code",
   "execution_count": 33,
   "id": "9a0f46af",
   "metadata": {},
   "outputs": [],
   "source": [
    "category_data_columns = all_data.select_dtypes(exclude = np.number).drop(columns=[\"data\",\"Product_ID\"]).columns"
   ]
  },
  {
   "cell_type": "code",
   "execution_count": 34,
   "id": "8463b770",
   "metadata": {},
   "outputs": [],
   "source": [
    "numeric_data_columns = all_data.select_dtypes(include = np.number).drop(columns = [\"Purchase\",\"User_ID\"]).columns"
   ]
  },
  {
   "cell_type": "code",
   "execution_count": 35,
   "id": "d3f227e9",
   "metadata": {},
   "outputs": [],
   "source": [
    "preprocess_category_data_columns = pd.get_dummies(all_data[category_data_columns])\n",
    "scaler = StandardScaler()"
   ]
  },
  {
   "cell_type": "code",
   "execution_count": 36,
   "id": "d08036dd",
   "metadata": {},
   "outputs": [],
   "source": [
    "preprocess_numeric_data_columns = pd.DataFrame(scaler.fit_transform(all_data[numeric_data_columns]), columns=numeric_data_columns)"
   ]
  },
  {
   "cell_type": "code",
   "execution_count": 37,
   "id": "56d8482a",
   "metadata": {},
   "outputs": [],
   "source": [
    "final_preprocessed = pd.concat([preprocess_category_data_columns, preprocess_numeric_data_columns, all_data[[\"data\",\"Purchase\",\"User_ID\",\"Product_ID\"]]], axis = 1)"
   ]
  },
  {
   "cell_type": "code",
   "execution_count": 38,
   "id": "05f75f30",
   "metadata": {
    "scrolled": false
   },
   "outputs": [
    {
     "data": {
      "text/plain": [
       "(262958, 882)"
      ]
     },
     "execution_count": 38,
     "metadata": {},
     "output_type": "execute_result"
    }
   ],
   "source": [
    "final_preprocessed.shape"
   ]
  },
  {
   "cell_type": "code",
   "execution_count": 39,
   "id": "25706bbb",
   "metadata": {},
   "outputs": [],
   "source": [
    "train_preprocessed = final_preprocessed[final_preprocessed[\"data\"]==\"train\"]"
   ]
  },
  {
   "cell_type": "code",
   "execution_count": 40,
   "id": "bc21b3c1",
   "metadata": {},
   "outputs": [],
   "source": [
    "test_preprocessed = final_preprocessed[final_preprocessed[\"data\"]==\"test\"]"
   ]
  },
  {
   "cell_type": "code",
   "execution_count": 41,
   "id": "c6fcf5b1",
   "metadata": {},
   "outputs": [],
   "source": [
    "test_preprocessed = test_preprocessed.drop(columns = [\"data\",\"Purchase\"])"
   ]
  },
  {
   "cell_type": "code",
   "execution_count": 42,
   "id": "ca946b4c",
   "metadata": {},
   "outputs": [],
   "source": [
    "#train_preprocessed.to_csv(\"train_preprocessed.csv\")\n",
    "#test_preprocessed.to_csv(\"test_preprocessed.csv\")"
   ]
  },
  {
   "cell_type": "code",
   "execution_count": 43,
   "id": "959ae56a",
   "metadata": {},
   "outputs": [],
   "source": [
    "train_preprocessed.to_csv(\"train_preprocessed_1.csv\")\n",
    "\n",
    "test_preprocessed.to_csv(\"test_preprocessed_1.csv\")"
   ]
  }
 ],
 "metadata": {
  "kernelspec": {
   "display_name": "Python 3",
   "language": "python",
   "name": "python3"
  },
  "language_info": {
   "codemirror_mode": {
    "name": "ipython",
    "version": 3
   },
   "file_extension": ".py",
   "mimetype": "text/x-python",
   "name": "python",
   "nbconvert_exporter": "python",
   "pygments_lexer": "ipython3",
   "version": "3.8.8"
  }
 },
 "nbformat": 4,
 "nbformat_minor": 5
}

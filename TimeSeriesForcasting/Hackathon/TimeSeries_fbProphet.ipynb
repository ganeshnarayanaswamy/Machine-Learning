{
 "cells": [
  {
   "cell_type": "code",
   "execution_count": 1,
   "id": "a8d4ff36",
   "metadata": {},
   "outputs": [],
   "source": [
    "import os\n",
    "import pandas as pd\n",
    "import numpy as np\n",
    "import datetime as dt\n",
    "from sklearn import linear_model\n",
    "from statsmodels.tsa.arima_model import ARIMA\n",
    "from statsmodels.tsa.holtwinters import ExponentialSmoothing\n",
    "from statsmodels.tsa.holtwinters import SimpleExpSmoothing\n",
    "from fbprophet import Prophet\n",
    "import matplotlib.pyplot as plt\n",
    "from sklearn.metrics import mean_squared_error\n",
    "import warnings\n",
    "warnings.filterwarnings('ignore')\n",
    "\n",
    "\n"
   ]
  },
  {
   "cell_type": "code",
   "execution_count": 2,
   "id": "f0b80297",
   "metadata": {},
   "outputs": [],
   "source": [
    "train_data = pd.read_csv(\"Train.csv\")\n",
    "test_data = pd.read_csv(\"Test.csv\")"
   ]
  },
  {
   "cell_type": "code",
   "execution_count": 3,
   "id": "1e6a5159",
   "metadata": {},
   "outputs": [],
   "source": [
    "train_data[\"data\"]=\"train\"\n",
    "test_data[\"data\"]=\"test\"\n",
    "data=pd.concat([train_data,test_data])\n",
    "data = data.reset_index().drop(columns=\"index\")"
   ]
  },
  {
   "cell_type": "code",
   "execution_count": 4,
   "id": "152c298d",
   "metadata": {},
   "outputs": [
    {
     "data": {
      "text/plain": [
       "Index(['ID', 'Datetime', 'Count', 'data'], dtype='object')"
      ]
     },
     "execution_count": 4,
     "metadata": {},
     "output_type": "execute_result"
    }
   ],
   "source": [
    "data.columns"
   ]
  },
  {
   "cell_type": "code",
   "execution_count": 15,
   "id": "b70d1c3b",
   "metadata": {},
   "outputs": [],
   "source": [
    "def Fbprophet(data):\n",
    "    size = np.sum(data['data']=='train')\n",
    "    train_data = data[data[\"data\"]==\"train\"]\n",
    "    inter_df = train_data[['ds','y']]\n",
    "    m = Prophet(weekly_seasonality='auto', daily_seasonality='auto',seasonality_mode='multiplicative')\n",
    "    m.fit(inter_df)\n",
    "    y_train=m.predict(train_data[['ds']])\n",
    "    y_train_pred = y_train['yhat']\n",
    "    print(\"RMSE : \",np.sqrt(mean_squared_error(train_data['y'],y_train_pred)))\n",
    "    test_data = data[data[\"data\"]==\"test\"]\n",
    "    print(test_data.columns)\n",
    "    forecast = m.predict(test_data[['ds']])\n",
    "    fcst = forecast['yhat']\n",
    "    plt.plot(train_data.index, train_data.y)\n",
    "    plt.plot(test_data.index, forecast[\"yhat\"])\n",
    "    print(type(fcst))\n",
    "    test_data = test_data.reset_index().drop(columns=\"index\")\n",
    "    df_fcst=fcst.to_frame()\n",
    "    print(df_fcst.columns)\n",
    "    print(\"test_data df\",df_fcst[\"yhat\"])   \n",
    "    submit = pd.concat([test_data[[\"ID\"]], df_fcst],  axis = 1)\n",
    "    print(submit)\n",
    "    return submit\n"
   ]
  },
  {
   "cell_type": "code",
   "execution_count": 16,
   "id": "7f7e0e9b",
   "metadata": {
    "scrolled": false
   },
   "outputs": [
    {
     "name": "stdout",
     "output_type": "stream",
     "text": [
      "RMSE :  77.18024739454417\n",
      "Index(['ID', 'ds', 'data', 'y'], dtype='object')\n",
      "<class 'pandas.core.series.Series'>\n",
      "Index(['yhat'], dtype='object')\n",
      "test_data df 0       213.633570\n",
      "1       185.431529\n",
      "2       157.209390\n",
      "3       135.271934\n",
      "4       121.126545\n",
      "           ...    \n",
      "5107    607.443958\n",
      "5108    588.494735\n",
      "5109    572.558443\n",
      "5110    553.301725\n",
      "5111    510.159014\n",
      "Name: yhat, Length: 5112, dtype: float64\n",
      "         ID        yhat\n",
      "0     18288  213.633570\n",
      "1     18289  185.431529\n",
      "2     18290  157.209390\n",
      "3     18291  135.271934\n",
      "4     18292  121.126545\n",
      "...     ...         ...\n",
      "5107  23395  607.443958\n",
      "5108  23396  588.494735\n",
      "5109  23397  572.558443\n",
      "5110  23398  553.301725\n",
      "5111  23399  510.159014\n",
      "\n",
      "[5112 rows x 2 columns]\n"
     ]
    },
    {
     "data": {
      "image/png": "[encoded data removed]",
      "text/plain": [
       "<Figure size 432x288 with 1 Axes>"
      ]
     },
     "metadata": {
      "needs_background": "light"
     },
     "output_type": "display_data"
    }
   ],
   "source": [
    "required_cols = [col for col in data.columns if col not in ['ID','Datetime', 'data']]\n",
    "\n",
    "\n",
    "Result=pd.DataFrame()\n",
    "\n",
    "for model in [Fbprophet]:\n",
    "    for i in required_cols:\n",
    "        data['Datetime'] = pd.to_datetime(data['Datetime'])\n",
    "        to_func = data[['ID', 'Datetime',  'data', i]]\n",
    "        to_func.columns=['ID', 'Datetime', 'data', 'Count']\n",
    "        if model == Fbprophet:\n",
    "            to_func.columns=[\"ID\",\"ds\",\"data\", \"y\"]\n",
    "            Result_inter = model(to_func[['ID','ds','data', 'y']])\n",
    "            Result_inter.name = model.__name__ + \"_\" +  i\n",
    "            Result_inter.index = range(len(Result_inter))\n",
    "            \n",
    "Result_inter.to_csv('Forecast_fbProphet.csv')"
   ]
  },
  {
   "cell_type": "code",
   "execution_count": null,
   "id": "f492a8d4",
   "metadata": {},
   "outputs": [],
   "source": []
  }
 ],
 "metadata": {
  "kernelspec": {
   "display_name": "Python 3",
   "language": "python",
   "name": "python3"
  },
  "language_info": {
   "codemirror_mode": {
    "name": "ipython",
    "version": 3
   },
   "file_extension": ".py",
   "mimetype": "text/x-python",
   "name": "python",
   "nbconvert_exporter": "python",
   "pygments_lexer": "ipython3",
   "version": "3.8.8"
  }
 },
 "nbformat": 4,
 "nbformat_minor": 5
}
